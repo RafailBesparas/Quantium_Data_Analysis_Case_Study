{
 "cells": [
  {
   "cell_type": "code",
   "execution_count": 1,
   "id": "15c58a25-6d4b-4a49-ae6f-573ab00c41c3",
   "metadata": {},
   "outputs": [],
   "source": [
    "import pandas as pd\n",
    "import numpy as np\n",
    "import matplotlib.pyplot as plt\n",
    "import seaborn as sns\n",
    "import re"
   ]
  },
  {
   "cell_type": "code",
   "execution_count": 2,
   "id": "c54b2e14-d5fe-4be0-9c7e-2236a30c10dc",
   "metadata": {},
   "outputs": [
    {
     "data": {
      "text/html": [
       "<div>\n",
       "<style scoped>\n",
       "    .dataframe tbody tr th:only-of-type {\n",
       "        vertical-align: middle;\n",
       "    }\n",
       "\n",
       "    .dataframe tbody tr th {\n",
       "        vertical-align: top;\n",
       "    }\n",
       "\n",
       "    .dataframe thead th {\n",
       "        text-align: right;\n",
       "    }\n",
       "</style>\n",
       "<table border=\"1\" class=\"dataframe\">\n",
       "  <thead>\n",
       "    <tr style=\"text-align: right;\">\n",
       "      <th></th>\n",
       "      <th>DATE</th>\n",
       "      <th>STORE_NBR</th>\n",
       "      <th>LYLTY_CARD_NBR</th>\n",
       "      <th>TXN_ID</th>\n",
       "      <th>PROD_NBR</th>\n",
       "      <th>PROD_NAME</th>\n",
       "      <th>PROD_QTY</th>\n",
       "      <th>TOT_SALES</th>\n",
       "    </tr>\n",
       "  </thead>\n",
       "  <tbody>\n",
       "    <tr>\n",
       "      <th>0</th>\n",
       "      <td>43390</td>\n",
       "      <td>1</td>\n",
       "      <td>1000</td>\n",
       "      <td>1</td>\n",
       "      <td>5</td>\n",
       "      <td>Natural Chip        Compny SeaSalt175g</td>\n",
       "      <td>2</td>\n",
       "      <td>6.0</td>\n",
       "    </tr>\n",
       "    <tr>\n",
       "      <th>1</th>\n",
       "      <td>43599</td>\n",
       "      <td>1</td>\n",
       "      <td>1307</td>\n",
       "      <td>348</td>\n",
       "      <td>66</td>\n",
       "      <td>CCs Nacho Cheese    175g</td>\n",
       "      <td>3</td>\n",
       "      <td>6.3</td>\n",
       "    </tr>\n",
       "    <tr>\n",
       "      <th>2</th>\n",
       "      <td>43605</td>\n",
       "      <td>1</td>\n",
       "      <td>1343</td>\n",
       "      <td>383</td>\n",
       "      <td>61</td>\n",
       "      <td>Smiths Crinkle Cut  Chips Chicken 170g</td>\n",
       "      <td>2</td>\n",
       "      <td>2.9</td>\n",
       "    </tr>\n",
       "    <tr>\n",
       "      <th>3</th>\n",
       "      <td>43329</td>\n",
       "      <td>2</td>\n",
       "      <td>2373</td>\n",
       "      <td>974</td>\n",
       "      <td>69</td>\n",
       "      <td>Smiths Chip Thinly  S/Cream&amp;Onion 175g</td>\n",
       "      <td>5</td>\n",
       "      <td>15.0</td>\n",
       "    </tr>\n",
       "    <tr>\n",
       "      <th>4</th>\n",
       "      <td>43330</td>\n",
       "      <td>2</td>\n",
       "      <td>2426</td>\n",
       "      <td>1038</td>\n",
       "      <td>108</td>\n",
       "      <td>Kettle Tortilla ChpsHny&amp;Jlpno Chili 150g</td>\n",
       "      <td>3</td>\n",
       "      <td>13.8</td>\n",
       "    </tr>\n",
       "  </tbody>\n",
       "</table>\n",
       "</div>"
      ],
      "text/plain": [
       "    DATE  STORE_NBR  LYLTY_CARD_NBR  TXN_ID  PROD_NBR  \\\n",
       "0  43390          1            1000       1         5   \n",
       "1  43599          1            1307     348        66   \n",
       "2  43605          1            1343     383        61   \n",
       "3  43329          2            2373     974        69   \n",
       "4  43330          2            2426    1038       108   \n",
       "\n",
       "                                  PROD_NAME  PROD_QTY  TOT_SALES  \n",
       "0    Natural Chip        Compny SeaSalt175g         2        6.0  \n",
       "1                  CCs Nacho Cheese    175g         3        6.3  \n",
       "2    Smiths Crinkle Cut  Chips Chicken 170g         2        2.9  \n",
       "3    Smiths Chip Thinly  S/Cream&Onion 175g         5       15.0  \n",
       "4  Kettle Tortilla ChpsHny&Jlpno Chili 150g         3       13.8  "
      ]
     },
     "execution_count": 2,
     "metadata": {},
     "output_type": "execute_result"
    }
   ],
   "source": [
    "df = pd.read_excel(\"QVI_transaction_data.xlsx\")\n",
    "df.head(5)"
   ]
  },
  {
   "cell_type": "markdown",
   "id": "f78458c3-7cc1-49b5-8d60-6654102fb076",
   "metadata": {},
   "source": [
    "# Check the data"
   ]
  },
  {
   "cell_type": "code",
   "execution_count": 3,
   "id": "321abd8d-a163-4576-ae76-3124643b73aa",
   "metadata": {},
   "outputs": [
    {
     "name": "stdout",
     "output_type": "stream",
     "text": [
      "<class 'pandas.core.frame.DataFrame'>\n",
      "RangeIndex: 264836 entries, 0 to 264835\n",
      "Data columns (total 8 columns):\n",
      " #   Column          Non-Null Count   Dtype  \n",
      "---  ------          --------------   -----  \n",
      " 0   DATE            264836 non-null  int64  \n",
      " 1   STORE_NBR       264836 non-null  int64  \n",
      " 2   LYLTY_CARD_NBR  264836 non-null  int64  \n",
      " 3   TXN_ID          264836 non-null  int64  \n",
      " 4   PROD_NBR        264836 non-null  int64  \n",
      " 5   PROD_NAME       264836 non-null  object \n",
      " 6   PROD_QTY        264836 non-null  int64  \n",
      " 7   TOT_SALES       264836 non-null  float64\n",
      "dtypes: float64(1), int64(6), object(1)\n",
      "memory usage: 16.2+ MB\n"
     ]
    }
   ],
   "source": [
    "df.info()"
   ]
  },
  {
   "cell_type": "markdown",
   "id": "3eaae773-d713-41f6-97a4-a8a360146400",
   "metadata": {},
   "source": [
    "Currently the data has no missing data"
   ]
  },
  {
   "cell_type": "markdown",
   "id": "453435ab-3b7e-4941-8421-2674185b1260",
   "metadata": {},
   "source": [
    "### First is to change the type of date from integer to Date"
   ]
  },
  {
   "cell_type": "code",
   "execution_count": 4,
   "id": "98f5f9fe-e807-4b4a-a598-3f9a2f63c204",
   "metadata": {},
   "outputs": [],
   "source": [
    "df['DATE'] = pd.to_datetime(df['DATE'], origin='1899-12-30', unit='D')"
   ]
  },
  {
   "cell_type": "code",
   "execution_count": 5,
   "id": "f212283d-1c7d-4dff-a775-bbcefcfda181",
   "metadata": {},
   "outputs": [
    {
     "data": {
      "text/html": [
       "<div>\n",
       "<style scoped>\n",
       "    .dataframe tbody tr th:only-of-type {\n",
       "        vertical-align: middle;\n",
       "    }\n",
       "\n",
       "    .dataframe tbody tr th {\n",
       "        vertical-align: top;\n",
       "    }\n",
       "\n",
       "    .dataframe thead th {\n",
       "        text-align: right;\n",
       "    }\n",
       "</style>\n",
       "<table border=\"1\" class=\"dataframe\">\n",
       "  <thead>\n",
       "    <tr style=\"text-align: right;\">\n",
       "      <th></th>\n",
       "      <th>DATE</th>\n",
       "      <th>STORE_NBR</th>\n",
       "      <th>LYLTY_CARD_NBR</th>\n",
       "      <th>TXN_ID</th>\n",
       "      <th>PROD_NBR</th>\n",
       "      <th>PROD_NAME</th>\n",
       "      <th>PROD_QTY</th>\n",
       "      <th>TOT_SALES</th>\n",
       "    </tr>\n",
       "  </thead>\n",
       "  <tbody>\n",
       "    <tr>\n",
       "      <th>0</th>\n",
       "      <td>2018-10-17</td>\n",
       "      <td>1</td>\n",
       "      <td>1000</td>\n",
       "      <td>1</td>\n",
       "      <td>5</td>\n",
       "      <td>Natural Chip        Compny SeaSalt175g</td>\n",
       "      <td>2</td>\n",
       "      <td>6.0</td>\n",
       "    </tr>\n",
       "    <tr>\n",
       "      <th>1</th>\n",
       "      <td>2019-05-14</td>\n",
       "      <td>1</td>\n",
       "      <td>1307</td>\n",
       "      <td>348</td>\n",
       "      <td>66</td>\n",
       "      <td>CCs Nacho Cheese    175g</td>\n",
       "      <td>3</td>\n",
       "      <td>6.3</td>\n",
       "    </tr>\n",
       "    <tr>\n",
       "      <th>2</th>\n",
       "      <td>2019-05-20</td>\n",
       "      <td>1</td>\n",
       "      <td>1343</td>\n",
       "      <td>383</td>\n",
       "      <td>61</td>\n",
       "      <td>Smiths Crinkle Cut  Chips Chicken 170g</td>\n",
       "      <td>2</td>\n",
       "      <td>2.9</td>\n",
       "    </tr>\n",
       "  </tbody>\n",
       "</table>\n",
       "</div>"
      ],
      "text/plain": [
       "        DATE  STORE_NBR  LYLTY_CARD_NBR  TXN_ID  PROD_NBR  \\\n",
       "0 2018-10-17          1            1000       1         5   \n",
       "1 2019-05-14          1            1307     348        66   \n",
       "2 2019-05-20          1            1343     383        61   \n",
       "\n",
       "                                PROD_NAME  PROD_QTY  TOT_SALES  \n",
       "0  Natural Chip        Compny SeaSalt175g         2        6.0  \n",
       "1                CCs Nacho Cheese    175g         3        6.3  \n",
       "2  Smiths Crinkle Cut  Chips Chicken 170g         2        2.9  "
      ]
     },
     "execution_count": 5,
     "metadata": {},
     "output_type": "execute_result"
    }
   ],
   "source": [
    "df.head(3)"
   ]
  },
  {
   "cell_type": "markdown",
   "id": "e28510d5-7821-44c1-9ee3-7c6ef10c32f8",
   "metadata": {},
   "source": [
    "### Check the product name column"
   ]
  },
  {
   "cell_type": "code",
   "execution_count": 6,
   "id": "e0a091ad-f3df-4ed1-9359-8cb380268d88",
   "metadata": {},
   "outputs": [
    {
     "data": {
      "text/plain": [
       "array(['Natural Chip        Compny SeaSalt175g',\n",
       "       'CCs Nacho Cheese    175g',\n",
       "       'Smiths Crinkle Cut  Chips Chicken 170g',\n",
       "       'Smiths Chip Thinly  S/Cream&Onion 175g',\n",
       "       'Kettle Tortilla ChpsHny&Jlpno Chili 150g',\n",
       "       'Old El Paso Salsa   Dip Tomato Mild 300g',\n",
       "       'Smiths Crinkle Chips Salt & Vinegar 330g',\n",
       "       'Grain Waves         Sweet Chilli 210g',\n",
       "       'Doritos Corn Chip Mexican Jalapeno 150g',\n",
       "       'Grain Waves Sour    Cream&Chives 210G',\n",
       "       'Kettle Sensations   Siracha Lime 150g',\n",
       "       'Twisties Cheese     270g', 'WW Crinkle Cut      Chicken 175g',\n",
       "       'Thins Chips Light&  Tangy 175g', 'CCs Original 175g',\n",
       "       'Burger Rings 220g', 'NCC Sour Cream &    Garden Chives 175g',\n",
       "       'Doritos Corn Chip Southern Chicken 150g',\n",
       "       'Cheezels Cheese Box 125g', 'Smiths Crinkle      Original 330g',\n",
       "       'Infzns Crn Crnchers Tangy Gcamole 110g',\n",
       "       'Kettle Sea Salt     And Vinegar 175g',\n",
       "       'Smiths Chip Thinly  Cut Original 175g', 'Kettle Original 175g',\n",
       "       'Red Rock Deli Thai  Chilli&Lime 150g',\n",
       "       'Pringles Sthrn FriedChicken 134g', 'Pringles Sweet&Spcy BBQ 134g',\n",
       "       'Red Rock Deli SR    Salsa & Mzzrlla 150g',\n",
       "       'Thins Chips         Originl saltd 175g',\n",
       "       'Red Rock Deli Sp    Salt & Truffle 150G',\n",
       "       'Smiths Thinly       Swt Chli&S/Cream175G', 'Kettle Chilli 175g',\n",
       "       'Doritos Mexicana    170g',\n",
       "       'Smiths Crinkle Cut  French OnionDip 150g',\n",
       "       'Natural ChipCo      Hony Soy Chckn175g',\n",
       "       'Dorito Corn Chp     Supreme 380g', 'Twisties Chicken270g',\n",
       "       'Smiths Thinly Cut   Roast Chicken 175g',\n",
       "       'Smiths Crinkle Cut  Tomato Salsa 150g',\n",
       "       'Kettle Mozzarella   Basil & Pesto 175g',\n",
       "       'Infuzions Thai SweetChili PotatoMix 110g',\n",
       "       'Kettle Sensations   Camembert & Fig 150g',\n",
       "       'Smith Crinkle Cut   Mac N Cheese 150g',\n",
       "       'Kettle Honey Soy    Chicken 175g',\n",
       "       'Thins Chips Seasonedchicken 175g',\n",
       "       'Smiths Crinkle Cut  Salt & Vinegar 170g',\n",
       "       'Infuzions BBQ Rib   Prawn Crackers 110g',\n",
       "       'GrnWves Plus Btroot & Chilli Jam 180g',\n",
       "       'Tyrrells Crisps     Lightly Salted 165g',\n",
       "       'Kettle Sweet Chilli And Sour Cream 175g',\n",
       "       'Doritos Salsa       Medium 300g', 'Kettle 135g Swt Pot Sea Salt',\n",
       "       'Pringles SourCream  Onion 134g',\n",
       "       'Doritos Corn Chips  Original 170g',\n",
       "       'Twisties Cheese     Burger 250g',\n",
       "       'Old El Paso Salsa   Dip Chnky Tom Ht300g',\n",
       "       'Cobs Popd Swt/Chlli &Sr/Cream Chips 110g',\n",
       "       'Woolworths Mild     Salsa 300g',\n",
       "       'Natural Chip Co     Tmato Hrb&Spce 175g',\n",
       "       'Smiths Crinkle Cut  Chips Original 170g',\n",
       "       'Cobs Popd Sea Salt  Chips 110g',\n",
       "       'Smiths Crinkle Cut  Chips Chs&Onion170g',\n",
       "       'French Fries Potato Chips 175g',\n",
       "       'Old El Paso Salsa   Dip Tomato Med 300g',\n",
       "       'Doritos Corn Chips  Cheese Supreme 170g',\n",
       "       'Pringles Original   Crisps 134g',\n",
       "       'RRD Chilli&         Coconut 150g',\n",
       "       'WW Original Corn    Chips 200g',\n",
       "       'Thins Potato Chips  Hot & Spicy 175g',\n",
       "       'Cobs Popd Sour Crm  &Chives Chips 110g',\n",
       "       'Smiths Crnkle Chip  Orgnl Big Bag 380g',\n",
       "       'Doritos Corn Chips  Nacho Cheese 170g',\n",
       "       'Kettle Sensations   BBQ&Maple 150g',\n",
       "       'WW D/Style Chip     Sea Salt 200g',\n",
       "       'Pringles Chicken    Salt Crips 134g',\n",
       "       'WW Original Stacked Chips 160g',\n",
       "       'Smiths Chip Thinly  CutSalt/Vinegr175g', 'Cheezels Cheese 330g',\n",
       "       'Tostitos Lightly    Salted 175g',\n",
       "       'Thins Chips Salt &  Vinegar 175g',\n",
       "       'Smiths Crinkle Cut  Chips Barbecue 170g', 'Cheetos Puffs 165g',\n",
       "       'RRD Sweet Chilli &  Sour Cream 165g',\n",
       "       'WW Crinkle Cut      Original 175g',\n",
       "       'Tostitos Splash Of  Lime 175g', 'Woolworths Medium   Salsa 300g',\n",
       "       'Kettle Tortilla ChpsBtroot&Ricotta 150g',\n",
       "       'CCs Tasty Cheese    175g', 'Woolworths Cheese   Rings 190g',\n",
       "       'Tostitos Smoked     Chipotle 175g', 'Pringles Barbeque   134g',\n",
       "       'WW Supreme Cheese   Corn Chips 200g',\n",
       "       'Pringles Mystery    Flavour 134g',\n",
       "       'Tyrrells Crisps     Ched & Chives 165g',\n",
       "       'Snbts Whlgrn Crisps Cheddr&Mstrd 90g',\n",
       "       'Cheetos Chs & Bacon Balls 190g', 'Pringles Slt Vingar 134g',\n",
       "       'Infuzions SourCream&Herbs Veg Strws 110g',\n",
       "       'Kettle Tortilla ChpsFeta&Garlic 150g',\n",
       "       'Infuzions Mango     Chutny Papadums 70g',\n",
       "       'RRD Steak &         Chimuchurri 150g',\n",
       "       'RRD Honey Soy       Chicken 165g',\n",
       "       'Sunbites Whlegrn    Crisps Frch/Onin 90g',\n",
       "       'RRD Salt & Vinegar  165g', 'Doritos Cheese      Supreme 330g',\n",
       "       'Smiths Crinkle Cut  Snag&Sauce 150g',\n",
       "       'WW Sour Cream &OnionStacked Chips 160g',\n",
       "       'RRD Lime & Pepper   165g',\n",
       "       'Natural ChipCo Sea  Salt & Vinegr 175g',\n",
       "       'Red Rock Deli Chikn&Garlic Aioli 150g',\n",
       "       'RRD SR Slow Rst     Pork Belly 150g', 'RRD Pc Sea Salt     165g',\n",
       "       'Smith Crinkle Cut   Bolognese 150g', 'Doritos Salsa Mild  300g'],\n",
       "      dtype=object)"
      ]
     },
     "execution_count": 6,
     "metadata": {},
     "output_type": "execute_result"
    }
   ],
   "source": [
    "df['PROD_NAME'].unique()"
   ]
  },
  {
   "cell_type": "markdown",
   "id": "9ba33177-abee-4238-8a00-4de425f27a77",
   "metadata": {},
   "source": [
    "### Check whether the product is chip or not we are only interested in chips"
   ]
  },
  {
   "cell_type": "code",
   "execution_count": 7,
   "id": "7b68cbc6-887a-4394-826d-d5b82c25f4a0",
   "metadata": {},
   "outputs": [],
   "source": [
    "df['PROD_NAME'] = df['PROD_NAME'].str.lower()"
   ]
  },
  {
   "cell_type": "code",
   "execution_count": 8,
   "id": "ebf8704a-4e3e-4989-8e1f-3860da5632f0",
   "metadata": {},
   "outputs": [],
   "source": [
    "# Keywords for chips\n",
    "chip_keywords = ['chips', 'crisps', 'potato chips', 'tortilla chips', 'chip', 'corn chips']"
   ]
  },
  {
   "cell_type": "code",
   "execution_count": 9,
   "id": "2c338ab6-6080-4f7e-92f5-e41776920bf5",
   "metadata": {},
   "outputs": [],
   "source": [
    "def is_chip(product_name):\n",
    "    return any(keyword in product_name for keyword in chip_keywords)"
   ]
  },
  {
   "cell_type": "code",
   "execution_count": 10,
   "id": "e1534e63-4ee1-4713-9b0d-3cf8759580b8",
   "metadata": {},
   "outputs": [],
   "source": [
    "df['is_chip'] = df['PROD_NAME'].apply(is_chip)"
   ]
  },
  {
   "cell_type": "code",
   "execution_count": 11,
   "id": "448e4d37-5d84-4aa3-9445-56a093fd70f1",
   "metadata": {},
   "outputs": [
    {
     "name": "stdout",
     "output_type": "stream",
     "text": [
      "                                       PROD_NAME  is_chip\n",
      "0         natural chip        compny seasalt175g     True\n",
      "1                       ccs nacho cheese    175g    False\n",
      "2         smiths crinkle cut  chips chicken 170g     True\n",
      "3         smiths chip thinly  s/cream&onion 175g     True\n",
      "4       kettle tortilla chpshny&jlpno chili 150g    False\n",
      "...                                          ...      ...\n",
      "264831   kettle sweet chilli and sour cream 175g    False\n",
      "264832             tostitos splash of  lime 175g    False\n",
      "264833                  doritos mexicana    170g    False\n",
      "264834   doritos corn chip mexican jalapeno 150g     True\n",
      "264835             tostitos splash of  lime 175g    False\n",
      "\n",
      "[264836 rows x 2 columns]\n"
     ]
    }
   ],
   "source": [
    "print(df[['PROD_NAME', 'is_chip']])"
   ]
  },
  {
   "cell_type": "markdown",
   "id": "6e1b8ff2-0844-4a56-8155-9a30ccf612bd",
   "metadata": {},
   "source": [
    "### Keep only the chips"
   ]
  },
  {
   "cell_type": "code",
   "execution_count": 12,
   "id": "753374a2-5ee6-4f50-b6b5-e68ec079fb47",
   "metadata": {},
   "outputs": [],
   "source": [
    "#df_chips = df[df['is_chip'] == True]"
   ]
  },
  {
   "cell_type": "code",
   "execution_count": 13,
   "id": "a41cd23d-0dae-447c-9a75-9feea9453825",
   "metadata": {},
   "outputs": [],
   "source": [
    "# df_chips"
   ]
  },
  {
   "cell_type": "markdown",
   "id": "8f510b3d-f358-45b5-b045-0c64157d3e9a",
   "metadata": {},
   "source": [
    "#### Visualization of the distribution of chips"
   ]
  },
  {
   "cell_type": "code",
   "execution_count": 14,
   "id": "1ee58ef6-baf7-482e-924f-0f11fd6531f9",
   "metadata": {},
   "outputs": [],
   "source": [
    "count_chips = df['PROD_NAME'].value_counts()\n",
    "top_5_chips = count_chips.head(5)\n",
    "bottom_5_chips = count_chips.tail(5)"
   ]
  },
  {
   "cell_type": "code",
   "execution_count": 15,
   "id": "43a906d8-53e6-4f30-a95c-257a90c88e43",
   "metadata": {},
   "outputs": [
    {
     "data": {
      "text/plain": [
       "PROD_NAME\n",
       "kettle mozzarella   basil & pesto 175g      3304\n",
       "kettle tortilla chpshny&jlpno chili 150g    3296\n",
       "cobs popd swt/chlli &sr/cream chips 110g    3269\n",
       "tyrrells crisps     ched & chives 165g      3268\n",
       "cobs popd sea salt  chips 110g              3265\n",
       "Name: count, dtype: int64"
      ]
     },
     "execution_count": 15,
     "metadata": {},
     "output_type": "execute_result"
    }
   ],
   "source": [
    "top_5_chips"
   ]
  },
  {
   "cell_type": "code",
   "execution_count": 16,
   "id": "e006b17c-0a6d-4169-b8cd-65b4b51350ea",
   "metadata": {},
   "outputs": [
    {
     "data": {
      "text/plain": [
       "PROD_NAME\n",
       "rrd pc sea salt     165g                  1431\n",
       "woolworths medium   salsa 300g            1430\n",
       "ncc sour cream &    garden chives 175g    1419\n",
       "french fries potato chips 175g            1418\n",
       "ww crinkle cut      original 175g         1410\n",
       "Name: count, dtype: int64"
      ]
     },
     "execution_count": 16,
     "metadata": {},
     "output_type": "execute_result"
    }
   ],
   "source": [
    "bottom_5_chips"
   ]
  },
  {
   "cell_type": "code",
   "execution_count": 17,
   "id": "c43801d8-2acc-4853-a12a-6e5df05d0352",
   "metadata": {},
   "outputs": [
    {
     "data": {
      "text/html": [
       "<div>\n",
       "<style scoped>\n",
       "    .dataframe tbody tr th:only-of-type {\n",
       "        vertical-align: middle;\n",
       "    }\n",
       "\n",
       "    .dataframe tbody tr th {\n",
       "        vertical-align: top;\n",
       "    }\n",
       "\n",
       "    .dataframe thead th {\n",
       "        text-align: right;\n",
       "    }\n",
       "</style>\n",
       "<table border=\"1\" class=\"dataframe\">\n",
       "  <thead>\n",
       "    <tr style=\"text-align: right;\">\n",
       "      <th></th>\n",
       "      <th>DATE</th>\n",
       "      <th>STORE_NBR</th>\n",
       "      <th>LYLTY_CARD_NBR</th>\n",
       "      <th>TXN_ID</th>\n",
       "      <th>PROD_NBR</th>\n",
       "      <th>PROD_QTY</th>\n",
       "      <th>TOT_SALES</th>\n",
       "    </tr>\n",
       "  </thead>\n",
       "  <tbody>\n",
       "    <tr>\n",
       "      <th>count</th>\n",
       "      <td>264836</td>\n",
       "      <td>264836.00000</td>\n",
       "      <td>2.648360e+05</td>\n",
       "      <td>2.648360e+05</td>\n",
       "      <td>264836.000000</td>\n",
       "      <td>264836.000000</td>\n",
       "      <td>264836.000000</td>\n",
       "    </tr>\n",
       "    <tr>\n",
       "      <th>mean</th>\n",
       "      <td>2018-12-30 00:52:12.879215616</td>\n",
       "      <td>135.08011</td>\n",
       "      <td>1.355495e+05</td>\n",
       "      <td>1.351583e+05</td>\n",
       "      <td>56.583157</td>\n",
       "      <td>1.907309</td>\n",
       "      <td>7.304200</td>\n",
       "    </tr>\n",
       "    <tr>\n",
       "      <th>min</th>\n",
       "      <td>2018-07-01 00:00:00</td>\n",
       "      <td>1.00000</td>\n",
       "      <td>1.000000e+03</td>\n",
       "      <td>1.000000e+00</td>\n",
       "      <td>1.000000</td>\n",
       "      <td>1.000000</td>\n",
       "      <td>1.500000</td>\n",
       "    </tr>\n",
       "    <tr>\n",
       "      <th>25%</th>\n",
       "      <td>2018-09-30 00:00:00</td>\n",
       "      <td>70.00000</td>\n",
       "      <td>7.002100e+04</td>\n",
       "      <td>6.760150e+04</td>\n",
       "      <td>28.000000</td>\n",
       "      <td>2.000000</td>\n",
       "      <td>5.400000</td>\n",
       "    </tr>\n",
       "    <tr>\n",
       "      <th>50%</th>\n",
       "      <td>2018-12-30 00:00:00</td>\n",
       "      <td>130.00000</td>\n",
       "      <td>1.303575e+05</td>\n",
       "      <td>1.351375e+05</td>\n",
       "      <td>56.000000</td>\n",
       "      <td>2.000000</td>\n",
       "      <td>7.400000</td>\n",
       "    </tr>\n",
       "    <tr>\n",
       "      <th>75%</th>\n",
       "      <td>2019-03-31 00:00:00</td>\n",
       "      <td>203.00000</td>\n",
       "      <td>2.030942e+05</td>\n",
       "      <td>2.027012e+05</td>\n",
       "      <td>85.000000</td>\n",
       "      <td>2.000000</td>\n",
       "      <td>9.200000</td>\n",
       "    </tr>\n",
       "    <tr>\n",
       "      <th>max</th>\n",
       "      <td>2019-06-30 00:00:00</td>\n",
       "      <td>272.00000</td>\n",
       "      <td>2.373711e+06</td>\n",
       "      <td>2.415841e+06</td>\n",
       "      <td>114.000000</td>\n",
       "      <td>200.000000</td>\n",
       "      <td>650.000000</td>\n",
       "    </tr>\n",
       "    <tr>\n",
       "      <th>std</th>\n",
       "      <td>NaN</td>\n",
       "      <td>76.78418</td>\n",
       "      <td>8.057998e+04</td>\n",
       "      <td>7.813303e+04</td>\n",
       "      <td>32.826638</td>\n",
       "      <td>0.643654</td>\n",
       "      <td>3.083226</td>\n",
       "    </tr>\n",
       "  </tbody>\n",
       "</table>\n",
       "</div>"
      ],
      "text/plain": [
       "                                DATE     STORE_NBR  LYLTY_CARD_NBR  \\\n",
       "count                         264836  264836.00000    2.648360e+05   \n",
       "mean   2018-12-30 00:52:12.879215616     135.08011    1.355495e+05   \n",
       "min              2018-07-01 00:00:00       1.00000    1.000000e+03   \n",
       "25%              2018-09-30 00:00:00      70.00000    7.002100e+04   \n",
       "50%              2018-12-30 00:00:00     130.00000    1.303575e+05   \n",
       "75%              2019-03-31 00:00:00     203.00000    2.030942e+05   \n",
       "max              2019-06-30 00:00:00     272.00000    2.373711e+06   \n",
       "std                              NaN      76.78418    8.057998e+04   \n",
       "\n",
       "             TXN_ID       PROD_NBR       PROD_QTY      TOT_SALES  \n",
       "count  2.648360e+05  264836.000000  264836.000000  264836.000000  \n",
       "mean   1.351583e+05      56.583157       1.907309       7.304200  \n",
       "min    1.000000e+00       1.000000       1.000000       1.500000  \n",
       "25%    6.760150e+04      28.000000       2.000000       5.400000  \n",
       "50%    1.351375e+05      56.000000       2.000000       7.400000  \n",
       "75%    2.027012e+05      85.000000       2.000000       9.200000  \n",
       "max    2.415841e+06     114.000000     200.000000     650.000000  \n",
       "std    7.813303e+04      32.826638       0.643654       3.083226  "
      ]
     },
     "execution_count": 17,
     "metadata": {},
     "output_type": "execute_result"
    }
   ],
   "source": [
    "df.describe()"
   ]
  },
  {
   "cell_type": "code",
   "execution_count": 18,
   "id": "7c155479-8cb6-4d66-b5f6-cdf959e3251f",
   "metadata": {},
   "outputs": [],
   "source": [
    "df_summary = df.describe()\n",
    "df_summary.to_csv(\"summary.csv\")"
   ]
  },
  {
   "cell_type": "code",
   "execution_count": 19,
   "id": "5247e158-9c71-41d9-ac89-57b065cd550a",
   "metadata": {},
   "outputs": [
    {
     "data": {
      "text/plain": [
       "DATE              0\n",
       "STORE_NBR         0\n",
       "LYLTY_CARD_NBR    0\n",
       "TXN_ID            0\n",
       "PROD_NBR          0\n",
       "PROD_NAME         0\n",
       "PROD_QTY          0\n",
       "TOT_SALES         0\n",
       "is_chip           0\n",
       "dtype: int64"
      ]
     },
     "execution_count": 19,
     "metadata": {},
     "output_type": "execute_result"
    }
   ],
   "source": [
    "df.isnull().sum()"
   ]
  },
  {
   "cell_type": "code",
   "execution_count": 20,
   "id": "041fd456-32f0-48c0-a823-e0a3baf7a17d",
   "metadata": {},
   "outputs": [
    {
     "data": {
      "text/plain": [
       "DATE              0\n",
       "STORE_NBR         0\n",
       "LYLTY_CARD_NBR    0\n",
       "TXN_ID            0\n",
       "PROD_NBR          0\n",
       "PROD_NAME         0\n",
       "PROD_QTY          0\n",
       "TOT_SALES         0\n",
       "is_chip           0\n",
       "dtype: int64"
      ]
     },
     "execution_count": 20,
     "metadata": {},
     "output_type": "execute_result"
    }
   ],
   "source": [
    "df.isna().sum()"
   ]
  },
  {
   "cell_type": "markdown",
   "id": "67f36271-2be0-4114-80ad-9940682e26c5",
   "metadata": {},
   "source": [
    "There are no null or na values inside the data"
   ]
  },
  {
   "cell_type": "markdown",
   "id": "98f25c47-fca2-48bc-9e7f-fe0c25eb5f00",
   "metadata": {},
   "source": [
    "# Check the outlier of 200 to find the transaction"
   ]
  },
  {
   "cell_type": "code",
   "execution_count": 21,
   "id": "16442493-785f-4091-8480-0fae050df99a",
   "metadata": {},
   "outputs": [
    {
     "data": {
      "text/html": [
       "<div>\n",
       "<style scoped>\n",
       "    .dataframe tbody tr th:only-of-type {\n",
       "        vertical-align: middle;\n",
       "    }\n",
       "\n",
       "    .dataframe tbody tr th {\n",
       "        vertical-align: top;\n",
       "    }\n",
       "\n",
       "    .dataframe thead th {\n",
       "        text-align: right;\n",
       "    }\n",
       "</style>\n",
       "<table border=\"1\" class=\"dataframe\">\n",
       "  <thead>\n",
       "    <tr style=\"text-align: right;\">\n",
       "      <th></th>\n",
       "      <th>DATE</th>\n",
       "      <th>STORE_NBR</th>\n",
       "      <th>LYLTY_CARD_NBR</th>\n",
       "      <th>TXN_ID</th>\n",
       "      <th>PROD_NBR</th>\n",
       "      <th>PROD_NAME</th>\n",
       "      <th>PROD_QTY</th>\n",
       "      <th>TOT_SALES</th>\n",
       "      <th>is_chip</th>\n",
       "    </tr>\n",
       "  </thead>\n",
       "  <tbody>\n",
       "    <tr>\n",
       "      <th>69762</th>\n",
       "      <td>2018-08-19</td>\n",
       "      <td>226</td>\n",
       "      <td>226000</td>\n",
       "      <td>226201</td>\n",
       "      <td>4</td>\n",
       "      <td>dorito corn chp     supreme 380g</td>\n",
       "      <td>200</td>\n",
       "      <td>650.0</td>\n",
       "      <td>False</td>\n",
       "    </tr>\n",
       "    <tr>\n",
       "      <th>69763</th>\n",
       "      <td>2019-05-20</td>\n",
       "      <td>226</td>\n",
       "      <td>226000</td>\n",
       "      <td>226210</td>\n",
       "      <td>4</td>\n",
       "      <td>dorito corn chp     supreme 380g</td>\n",
       "      <td>200</td>\n",
       "      <td>650.0</td>\n",
       "      <td>False</td>\n",
       "    </tr>\n",
       "  </tbody>\n",
       "</table>\n",
       "</div>"
      ],
      "text/plain": [
       "            DATE  STORE_NBR  LYLTY_CARD_NBR  TXN_ID  PROD_NBR  \\\n",
       "69762 2018-08-19        226          226000  226201         4   \n",
       "69763 2019-05-20        226          226000  226210         4   \n",
       "\n",
       "                              PROD_NAME  PROD_QTY  TOT_SALES  is_chip  \n",
       "69762  dorito corn chp     supreme 380g       200      650.0    False  \n",
       "69763  dorito corn chp     supreme 380g       200      650.0    False  "
      ]
     },
     "execution_count": 21,
     "metadata": {},
     "output_type": "execute_result"
    }
   ],
   "source": [
    "# Finding the transaction with 200 bags of chips\n",
    "outlier = df[df['PROD_QTY'] == 200]\n",
    "outlier"
   ]
  },
  {
   "cell_type": "markdown",
   "id": "c51626f6-14a2-4223-a420-099b80ddcd3d",
   "metadata": {},
   "source": [
    "There are two transactions for buying 200 Quantity so it might be for commercial purposes"
   ]
  },
  {
   "cell_type": "markdown",
   "id": "a88002b2-39c6-43e4-a0b6-14edd23a3030",
   "metadata": {},
   "source": [
    "# Check the top 10 highest purchases"
   ]
  },
  {
   "cell_type": "code",
   "execution_count": 22,
   "id": "cfebf40d-85d3-4321-8695-0edbf8b57cae",
   "metadata": {},
   "outputs": [
    {
     "name": "stdout",
     "output_type": "stream",
     "text": [
      "Top 10 Highest Quantities Sold:\n",
      "            DATE  STORE_NBR  LYLTY_CARD_NBR  TXN_ID  PROD_NBR  \\\n",
      "69762 2018-08-19        226          226000  226201         4   \n",
      "69763 2019-05-20        226          226000  226210         4   \n",
      "3     2018-08-17          2            2373     974        69   \n",
      "11    2018-08-20          8            8294    8221       114   \n",
      "56    2019-05-16         74           74336   73182        84   \n",
      "72    2018-08-19         96           96203   96025         7   \n",
      "74    2018-08-16         97           97159   97271        35   \n",
      "100   2019-05-20        130          130108  134125         2   \n",
      "115   2018-08-19        160          160136  160968        82   \n",
      "137   2018-08-20        186          186401  188768         1   \n",
      "\n",
      "                                     PROD_NAME  PROD_QTY  TOT_SALES  is_chip  \n",
      "69762         dorito corn chp     supreme 380g       200      650.0    False  \n",
      "69763         dorito corn chp     supreme 380g       200      650.0    False  \n",
      "3       smiths chip thinly  s/cream&onion 175g         5       15.0     True  \n",
      "11       kettle sensations   siracha lime 150g         5       23.0    False  \n",
      "56       grnwves plus btroot & chilli jam 180g         5       15.5    False  \n",
      "72           smiths crinkle      original 330g         5       28.5    False  \n",
      "74              woolworths mild     salsa 300g         5        7.5    False  \n",
      "100     cobs popd sour crm  &chives chips 110g         5       19.0     True  \n",
      "115      smith crinkle cut   mac n cheese 150g         5       13.0    False  \n",
      "137    smiths crinkle cut  chips barbecue 170g         5       14.5     True  \n"
     ]
    }
   ],
   "source": [
    "highest_quantity = df.nlargest(10, 'PROD_QTY')\n",
    "\n",
    "# Print the result\n",
    "print(\"Top 10 Highest Quantities Sold:\")\n",
    "print(highest_quantity)"
   ]
  },
  {
   "cell_type": "markdown",
   "id": "f8c8299f-7801-40fe-ac5f-9cb9a7f76eec",
   "metadata": {},
   "source": [
    "####  Only the customer 69762  has bought large amounts of chips the others are pretty much between 1 and 5"
   ]
  },
  {
   "cell_type": "markdown",
   "id": "3706763e-1846-4fe3-b5a2-a81045841f77",
   "metadata": {},
   "source": [
    "## Count the transactions by data"
   ]
  },
  {
   "cell_type": "code",
   "execution_count": 23,
   "id": "ff857221-ffa2-4ced-9f2b-1090fa4794b4",
   "metadata": {},
   "outputs": [],
   "source": [
    "# Number of transactions by date\n",
    "number_of_transactions = df.groupby('DATE').size()"
   ]
  },
  {
   "cell_type": "code",
   "execution_count": 24,
   "id": "2dbde4b4-306a-4ee6-8121-4a48777f9754",
   "metadata": {},
   "outputs": [
    {
     "data": {
      "text/plain": [
       "DATE\n",
       "2018-07-01    724\n",
       "2018-07-02    711\n",
       "2018-07-03    722\n",
       "2018-07-04    714\n",
       "2018-07-05    712\n",
       "             ... \n",
       "2019-06-26    723\n",
       "2019-06-27    709\n",
       "2019-06-28    730\n",
       "2019-06-29    745\n",
       "2019-06-30    744\n",
       "Length: 364, dtype: int64"
      ]
     },
     "execution_count": 24,
     "metadata": {},
     "output_type": "execute_result"
    }
   ],
   "source": [
    "number_of_transactions"
   ]
  },
  {
   "cell_type": "markdown",
   "id": "05dfa2a4-a260-4ae1-8729-a65b3f4dc5d8",
   "metadata": {},
   "source": [
    "# Check the sales for Christmans and Easter"
   ]
  },
  {
   "cell_type": "code",
   "execution_count": 25,
   "id": "6205873d-c067-473c-b0c0-d39321a6e6d8",
   "metadata": {},
   "outputs": [],
   "source": [
    "# Define date ranges for Easter and Christmas (adjust year as necessary)\n",
    "# I want the data for all the month of easter\n",
    "easter_start = pd.to_datetime('2019-04-1')  \n",
    "easter_end = pd.to_datetime('2019-04-30')   \n",
    "\n",
    "# I want the data for all the month of christmans\n",
    "christmas_start = pd.to_datetime('2018-12-1') \n",
    "christmas_end = pd.to_datetime('2018-12-31') "
   ]
  },
  {
   "cell_type": "code",
   "execution_count": 26,
   "id": "f879a016-a5a5-4959-b765-cafd93c41fbb",
   "metadata": {},
   "outputs": [],
   "source": [
    "# function to check the season\n",
    "def get_season(date):\n",
    "    if easter_start <= date <= easter_end:\n",
    "        return 'Easter'\n",
    "    elif christmas_start <= date <= christmas_end:\n",
    "        return 'Christmas'\n",
    "    else:\n",
    "        return 'Other'"
   ]
  },
  {
   "cell_type": "code",
   "execution_count": 27,
   "id": "b7a81e98-06bc-42fe-b7b8-04ffe12f73c8",
   "metadata": {},
   "outputs": [],
   "source": [
    "df['season'] = df['DATE'].apply(get_season)"
   ]
  },
  {
   "cell_type": "code",
   "execution_count": 28,
   "id": "d3860e98-0035-4b3a-a40e-974996c7d9b7",
   "metadata": {},
   "outputs": [],
   "source": [
    "# Check the number of transactions per season\n",
    "seasonal_transactions = df.groupby('season').size()"
   ]
  },
  {
   "cell_type": "code",
   "execution_count": 29,
   "id": "05d03617-4c05-47e8-a9f4-16bfd948cef2",
   "metadata": {},
   "outputs": [
    {
     "name": "stdout",
     "output_type": "stream",
     "text": [
      "Number of Transactions by Season: season\n",
      "Christmas     22835\n",
      "Easter        21766\n",
      "Other        220235\n",
      "dtype: int64\n"
     ]
    }
   ],
   "source": [
    "# Show transactions\n",
    "print(f\"Number of Transactions by Season: {seasonal_transactions}\")"
   ]
  },
  {
   "cell_type": "code",
   "execution_count": 30,
   "id": "f932f99b-9350-43a8-b7b6-e5321c4cedd2",
   "metadata": {},
   "outputs": [],
   "source": [
    "# Check the hypothesis"
   ]
  },
  {
   "cell_type": "code",
   "execution_count": 31,
   "id": "4294d1c0-0c1d-41e7-9074-235d0bc1eb4c",
   "metadata": {},
   "outputs": [],
   "source": [
    "total_sales = df['PROD_QTY'].sum()"
   ]
  },
  {
   "cell_type": "code",
   "execution_count": 32,
   "id": "a0bccdeb-9b3f-4617-83e1-b317cc82766f",
   "metadata": {},
   "outputs": [],
   "source": [
    "easter_sales = df[(df['season'] == 'Easter')]['PROD_QTY'].sum()\n",
    "christmas_sales = df[(df['season'] == 'Christmas')]['PROD_QTY'].sum()"
   ]
  },
  {
   "cell_type": "code",
   "execution_count": 33,
   "id": "ed4563b9-63ec-4c4f-ac54-5bb02f6d1903",
   "metadata": {},
   "outputs": [],
   "source": [
    "# Sales on the other periods I am checking on monthly basis\n",
    "other_sales = df[(df['season'] == 'Other')]['PROD_QTY'].sum()"
   ]
  },
  {
   "cell_type": "code",
   "execution_count": 34,
   "id": "a5864b4c-16b0-4197-bb2d-1ee9ce3d797e",
   "metadata": {},
   "outputs": [
    {
     "name": "stdout",
     "output_type": "stream",
     "text": [
      "Number of Transactions in Christmans: 43845\n",
      "Number of Transactions in Easter: 43845\n",
      "Number of Transactions in other Periods: 419454\n"
     ]
    }
   ],
   "source": [
    "print(f\"Number of Transactions in Christmans: {christmas_sales}\")\n",
    "print(f\"Number of Transactions in Easter: {christmas_sales}\")\n",
    "print(f\"Number of Transactions in other Periods: {other_sales}\")"
   ]
  },
  {
   "cell_type": "markdown",
   "id": "8adf7bde-f0ad-48be-8134-7d111cc8ccd5",
   "metadata": {},
   "source": [
    "# Hypothesis\n",
    "Create a bar chart with the number of transactions per month and see the month with highest transactions"
   ]
  },
  {
   "cell_type": "code",
   "execution_count": 35,
   "id": "d717e278-6c03-44f6-98a2-663fab499a3b",
   "metadata": {},
   "outputs": [],
   "source": [
    "df['year_month'] = df['DATE'].dt.to_period('M')"
   ]
  },
  {
   "cell_type": "code",
   "execution_count": 36,
   "id": "7fb6a48e-bf12-404c-abe4-8219b0919806",
   "metadata": {},
   "outputs": [],
   "source": [
    "# Find the number of transactions per month\n",
    "monthly_data = df.groupby('year_month')['PROD_QTY'].sum()"
   ]
  },
  {
   "cell_type": "code",
   "execution_count": 37,
   "id": "7057c464-ca2c-4aca-8497-50f28c362d5a",
   "metadata": {},
   "outputs": [],
   "source": [
    "monthly_data = monthly_data.reset_index()"
   ]
  },
  {
   "cell_type": "code",
   "execution_count": 38,
   "id": "8b0eece7-bbc1-4efb-bd90-2dd84b1747a6",
   "metadata": {},
   "outputs": [
    {
     "name": "stdout",
     "output_type": "stream",
     "text": [
      "   year_month  PROD_QTY\n",
      "0     2018-07     43242\n",
      "1     2018-08     41484\n",
      "2     2018-09     41792\n",
      "3     2018-10     42821\n",
      "4     2018-11     41895\n",
      "5     2018-12     43845\n",
      "6     2019-01     42501\n",
      "7     2019-02     39220\n",
      "8     2019-03     43347\n",
      "9     2019-04     41825\n",
      "10    2019-05     41300\n",
      "11    2019-06     41852\n"
     ]
    }
   ],
   "source": [
    "print(monthly_data)"
   ]
  },
  {
   "cell_type": "markdown",
   "id": "b4e9fbfc-9aa9-4298-8a8d-5fe220126432",
   "metadata": {},
   "source": [
    "Intepretation:\n",
    "In summary, the data suggests seasonal fluctuations in sales, with peak periods during holidays (Christmas) and dips in certain months, like February. The company seems to have achieved stable sales through 2019 after the holiday season.\n",
    "\n",
    "Hypothesis and Strategy\n",
    "1. Holiday Impact: December 2018 saw the highest sales, which is typical for the Christmas season; exploring the impact of holiday promotions and marketing strategies could be valuable.\n",
    "2. Seasonal Variation: There is a noticeable seasonal pattern, with higher sales around December (likely Christmas) and lower sales in February, possibly due to post-holiday and winter season factors.\n",
    "\n",
    "Year Transition:\n",
    "1. 2019-01: Sales decreased to 42,501 units in January 2019, possibly due to a post-holiday end.\n",
    "2. 2019-02: Sales continued to drop to 39,220 units, potentially impacted by seasonal trends or post-New Year's slump.\n",
    "3. 2019-03 to 2019-06: Sales recovered and stabilized in the 41,000 to 43,000 range, with a slight peak in March (43,347 units), indicating possible seasonal factors (e.g., spring sales, Easter).\n",
    "\n"
   ]
  },
  {
   "cell_type": "markdown",
   "id": "7be7429e-e4c2-4186-8317-84174819f529",
   "metadata": {},
   "source": [
    "### Feature Engineering for Package Size"
   ]
  },
  {
   "cell_type": "code",
   "execution_count": 39,
   "id": "1e18c2a1-a027-432a-ad9e-f2ea63d53e09",
   "metadata": {},
   "outputs": [],
   "source": [
    "# Extract package size\n",
    "def extract_pack_size(product_name):\n",
    "    # Search for patterns like '175g', '150kg', '250ml',\n",
    "    match = re.search(r'(\\d+)(g|kg|ml|L|G|Ml)', product_name)\n",
    "    if match:\n",
    "        return match.group(1)  # Return the numeric value\n",
    "    return None  # Return None if no match is found"
   ]
  },
  {
   "cell_type": "code",
   "execution_count": 40,
   "id": "52b3496b-ff73-4b8f-887d-617d68ce5a61",
   "metadata": {},
   "outputs": [],
   "source": [
    "# Create the feature"
   ]
  },
  {
   "cell_type": "code",
   "execution_count": 41,
   "id": "bc1b4ff4-296a-415e-bd60-0cb4a8e9797a",
   "metadata": {},
   "outputs": [],
   "source": [
    "df['Pack_Size'] = df['PROD_NAME'].apply(extract_pack_size)"
   ]
  },
  {
   "cell_type": "code",
   "execution_count": 42,
   "id": "41cf60d0-30a2-463b-bfca-b205f833a9da",
   "metadata": {},
   "outputs": [
    {
     "data": {
      "text/plain": [
       "array(['175', '170', '150', '300', '330', '210', '270', '220', '125',\n",
       "       '110', '134', '380', '180', '165', '135', '250', '200', '160',\n",
       "       '190', '90', '70'], dtype=object)"
      ]
     },
     "execution_count": 42,
     "metadata": {},
     "output_type": "execute_result"
    }
   ],
   "source": [
    "df['Pack_Size'].unique()"
   ]
  },
  {
   "cell_type": "markdown",
   "id": "82780689-6a33-4c95-a7e0-b1f9cea296be",
   "metadata": {},
   "source": [
    "# Find the transactions per package and sales per package\n",
    "Then check the correlation whether the package size has a correlation with sales and transactions"
   ]
  },
  {
   "cell_type": "code",
   "execution_count": 43,
   "id": "0eafd1e6-e272-4109-a4c7-b7062ac9b65e",
   "metadata": {},
   "outputs": [],
   "source": [
    "# For each package the number of transactions\n",
    "number_of_transactions = df.groupby('Pack_Size').size().reset_index(name='Number_of_Transactions')"
   ]
  },
  {
   "cell_type": "code",
   "execution_count": 44,
   "id": "f32b6435-8563-4062-9baf-4368b85e5526",
   "metadata": {},
   "outputs": [],
   "source": [
    "# For each package the total sales\n",
    "sales_per_pack = df.groupby('Pack_Size')['TOT_SALES'].sum().reset_index(name='Total_Sales')"
   ]
  },
  {
   "cell_type": "code",
   "execution_count": 45,
   "id": "85c79870-31c2-4c03-986d-775b1e248652",
   "metadata": {},
   "outputs": [
    {
     "data": {
      "text/html": [
       "<div>\n",
       "<style scoped>\n",
       "    .dataframe tbody tr th:only-of-type {\n",
       "        vertical-align: middle;\n",
       "    }\n",
       "\n",
       "    .dataframe tbody tr th {\n",
       "        vertical-align: top;\n",
       "    }\n",
       "\n",
       "    .dataframe thead th {\n",
       "        text-align: right;\n",
       "    }\n",
       "</style>\n",
       "<table border=\"1\" class=\"dataframe\">\n",
       "  <thead>\n",
       "    <tr style=\"text-align: right;\">\n",
       "      <th></th>\n",
       "      <th>Pack_Size</th>\n",
       "      <th>Number_of_Transactions</th>\n",
       "      <th>Total_Sales</th>\n",
       "    </tr>\n",
       "  </thead>\n",
       "  <tbody>\n",
       "    <tr>\n",
       "      <th>0</th>\n",
       "      <td>110</td>\n",
       "      <td>22387</td>\n",
       "      <td>162765.4</td>\n",
       "    </tr>\n",
       "    <tr>\n",
       "      <th>1</th>\n",
       "      <td>125</td>\n",
       "      <td>1454</td>\n",
       "      <td>5733.0</td>\n",
       "    </tr>\n",
       "    <tr>\n",
       "      <th>2</th>\n",
       "      <td>134</td>\n",
       "      <td>25102</td>\n",
       "      <td>177655.5</td>\n",
       "    </tr>\n",
       "    <tr>\n",
       "      <th>3</th>\n",
       "      <td>135</td>\n",
       "      <td>3257</td>\n",
       "      <td>26090.4</td>\n",
       "    </tr>\n",
       "    <tr>\n",
       "      <th>4</th>\n",
       "      <td>150</td>\n",
       "      <td>43131</td>\n",
       "      <td>304288.5</td>\n",
       "    </tr>\n",
       "    <tr>\n",
       "      <th>5</th>\n",
       "      <td>160</td>\n",
       "      <td>2970</td>\n",
       "      <td>10647.6</td>\n",
       "    </tr>\n",
       "    <tr>\n",
       "      <th>6</th>\n",
       "      <td>165</td>\n",
       "      <td>15297</td>\n",
       "      <td>101360.6</td>\n",
       "    </tr>\n",
       "    <tr>\n",
       "      <th>7</th>\n",
       "      <td>170</td>\n",
       "      <td>19983</td>\n",
       "      <td>146673.0</td>\n",
       "    </tr>\n",
       "    <tr>\n",
       "      <th>8</th>\n",
       "      <td>175</td>\n",
       "      <td>66390</td>\n",
       "      <td>485437.4</td>\n",
       "    </tr>\n",
       "    <tr>\n",
       "      <th>9</th>\n",
       "      <td>180</td>\n",
       "      <td>1468</td>\n",
       "      <td>8568.4</td>\n",
       "    </tr>\n",
       "    <tr>\n",
       "      <th>10</th>\n",
       "      <td>190</td>\n",
       "      <td>2995</td>\n",
       "      <td>14412.9</td>\n",
       "    </tr>\n",
       "    <tr>\n",
       "      <th>11</th>\n",
       "      <td>200</td>\n",
       "      <td>4473</td>\n",
       "      <td>16007.5</td>\n",
       "    </tr>\n",
       "    <tr>\n",
       "      <th>12</th>\n",
       "      <td>210</td>\n",
       "      <td>6272</td>\n",
       "      <td>43048.8</td>\n",
       "    </tr>\n",
       "    <tr>\n",
       "      <th>13</th>\n",
       "      <td>220</td>\n",
       "      <td>1564</td>\n",
       "      <td>6831.0</td>\n",
       "    </tr>\n",
       "    <tr>\n",
       "      <th>14</th>\n",
       "      <td>250</td>\n",
       "      <td>3169</td>\n",
       "      <td>26096.7</td>\n",
       "    </tr>\n",
       "    <tr>\n",
       "      <th>15</th>\n",
       "      <td>270</td>\n",
       "      <td>6285</td>\n",
       "      <td>55425.4</td>\n",
       "    </tr>\n",
       "    <tr>\n",
       "      <th>16</th>\n",
       "      <td>300</td>\n",
       "      <td>15166</td>\n",
       "      <td>113330.6</td>\n",
       "    </tr>\n",
       "    <tr>\n",
       "      <th>17</th>\n",
       "      <td>330</td>\n",
       "      <td>12540</td>\n",
       "      <td>136794.3</td>\n",
       "    </tr>\n",
       "    <tr>\n",
       "      <th>18</th>\n",
       "      <td>380</td>\n",
       "      <td>6418</td>\n",
       "      <td>76719.6</td>\n",
       "    </tr>\n",
       "    <tr>\n",
       "      <th>19</th>\n",
       "      <td>70</td>\n",
       "      <td>1507</td>\n",
       "      <td>6852.0</td>\n",
       "    </tr>\n",
       "    <tr>\n",
       "      <th>20</th>\n",
       "      <td>90</td>\n",
       "      <td>3008</td>\n",
       "      <td>9676.4</td>\n",
       "    </tr>\n",
       "  </tbody>\n",
       "</table>\n",
       "</div>"
      ],
      "text/plain": [
       "   Pack_Size  Number_of_Transactions  Total_Sales\n",
       "0        110                   22387     162765.4\n",
       "1        125                    1454       5733.0\n",
       "2        134                   25102     177655.5\n",
       "3        135                    3257      26090.4\n",
       "4        150                   43131     304288.5\n",
       "5        160                    2970      10647.6\n",
       "6        165                   15297     101360.6\n",
       "7        170                   19983     146673.0\n",
       "8        175                   66390     485437.4\n",
       "9        180                    1468       8568.4\n",
       "10       190                    2995      14412.9\n",
       "11       200                    4473      16007.5\n",
       "12       210                    6272      43048.8\n",
       "13       220                    1564       6831.0\n",
       "14       250                    3169      26096.7\n",
       "15       270                    6285      55425.4\n",
       "16       300                   15166     113330.6\n",
       "17       330                   12540     136794.3\n",
       "18       380                    6418      76719.6\n",
       "19        70                    1507       6852.0\n",
       "20        90                    3008       9676.4"
      ]
     },
     "execution_count": 45,
     "metadata": {},
     "output_type": "execute_result"
    }
   ],
   "source": [
    "pack_stats = pd.merge(number_of_transactions, sales_per_pack, on='Pack_Size')\n",
    "pack_stats.to_csv(\"PackStats.csv\")\n",
    "pack_stats\n"
   ]
  },
  {
   "cell_type": "code",
   "execution_count": 46,
   "id": "e185d217-25ea-4abf-8727-fa7f150393f2",
   "metadata": {},
   "outputs": [
    {
     "data": {
      "image/png": "[encoded data removed]",
      "text/plain": [
       "<Figure size 1400x600 with 2 Axes>"
      ]
     },
     "metadata": {},
     "output_type": "display_data"
    }
   ],
   "source": [
    "# Set up the figure with two subplots\n",
    "fig, axes = plt.subplots(1, 2, figsize=(14, 6))\n",
    "\n",
    "# Bar chart for Number of Transactions per Pack Size\n",
    "sns.barplot(x=pack_stats['Pack_Size'], y=pack_stats['Number_of_Transactions'], ax=axes[0])\n",
    "axes[0].set_title('Number of Transactions per Pack Size')\n",
    "axes[0].set_xlabel('Pack Size')\n",
    "axes[0].set_ylabel('Number of Transactions')\n",
    "axes[0].tick_params(axis='x', rotation=90)  # Rotate x-axis labels for better readability\n",
    "\n",
    "# Bar chart for Total Sales per Pack Size\n",
    "sns.barplot(x=pack_stats['Pack_Size'], y=pack_stats['Total_Sales'], ax=axes[1])\n",
    "axes[1].set_title('Total Sales per Pack Size')\n",
    "axes[1].set_xlabel('Pack Size')\n",
    "axes[1].set_ylabel('Total Sales')\n",
    "axes[1].tick_params(axis='x', rotation=90)  # Rotate x-axis labels for better readability\n",
    "\n",
    "# Display the plots\n",
    "plt.tight_layout()\n",
    "plt.show()"
   ]
  },
  {
   "cell_type": "markdown",
   "id": "4285d3e4-0292-40ba-b206-c2c8b209e0a6",
   "metadata": {},
   "source": [
    "# Interpretation Of Bar Chart\n",
    "\n",
    "High-performing Pack Sizes:\n",
    "1. Pack sizes like 175 and 150 have the highest Total_Sales (485,437.4 and 304,288.5, respectively). These pack sizes are generating significant revenue, likely due to higher demand or larger transaction numbers.\n",
    "\n",
    "Low-performing Pack Sizes:\n",
    "1. Pack sizes like 125, 70, and 90 have very low Total_Sales. These may not be in high demand or are priced lower compared to larger pack sizes.\n",
    "\n",
    "Outliers:\n",
    "1. Pack sizes like 134, 135, and 165 have relatively lower sales compared to their transaction numbers. This might indicate:\n",
    "2. Lower pricing.Smaller product margins.Limited marketability in higher-value segments.\n",
    "\n",
    "Retail Strategy for packaging size\n",
    "1. Large pack sizes (e.g., 330, 380) are performing moderately well in terms of sales but have fewer transactions compared to medium sizes (e.g., 150, 175). This suggests that medium-sized packs might be more favorable to customers, offering a balance between quantity and affordability."
   ]
  },
  {
   "cell_type": "markdown",
   "id": "8bf44760-c8b7-4595-ada8-3d33ef720954",
   "metadata": {},
   "source": [
    "# Create the Brand Name Feature"
   ]
  },
  {
   "cell_type": "code",
   "execution_count": 47,
   "id": "c4ce3e79-3c1d-4ce6-9332-7e8f79c69e53",
   "metadata": {},
   "outputs": [],
   "source": [
    "def extract_brand(product_name):\n",
    "    # Use regex to extract the first word(s) that represent the brand name\n",
    "    match = re.match(r\"([A-Za-z]+(?:\\s[A-Za-z]+)?)\", product_name.strip())\n",
    "    return match.group(1) if match else \"Unknown\""
   ]
  },
  {
   "cell_type": "code",
   "execution_count": 48,
   "id": "9f80a506-05b1-4e6e-a86f-42306fa143c7",
   "metadata": {},
   "outputs": [
    {
     "data": {
      "text/html": [
       "<div>\n",
       "<style scoped>\n",
       "    .dataframe tbody tr th:only-of-type {\n",
       "        vertical-align: middle;\n",
       "    }\n",
       "\n",
       "    .dataframe tbody tr th {\n",
       "        vertical-align: top;\n",
       "    }\n",
       "\n",
       "    .dataframe thead th {\n",
       "        text-align: right;\n",
       "    }\n",
       "</style>\n",
       "<table border=\"1\" class=\"dataframe\">\n",
       "  <thead>\n",
       "    <tr style=\"text-align: right;\">\n",
       "      <th></th>\n",
       "      <th>DATE</th>\n",
       "      <th>STORE_NBR</th>\n",
       "      <th>LYLTY_CARD_NBR</th>\n",
       "      <th>TXN_ID</th>\n",
       "      <th>PROD_NBR</th>\n",
       "      <th>PROD_NAME</th>\n",
       "      <th>PROD_QTY</th>\n",
       "      <th>TOT_SALES</th>\n",
       "      <th>is_chip</th>\n",
       "      <th>season</th>\n",
       "      <th>year_month</th>\n",
       "      <th>Pack_Size</th>\n",
       "      <th>Brand_Name</th>\n",
       "    </tr>\n",
       "  </thead>\n",
       "  <tbody>\n",
       "    <tr>\n",
       "      <th>0</th>\n",
       "      <td>2018-10-17</td>\n",
       "      <td>1</td>\n",
       "      <td>1000</td>\n",
       "      <td>1</td>\n",
       "      <td>5</td>\n",
       "      <td>natural chip        compny seasalt175g</td>\n",
       "      <td>2</td>\n",
       "      <td>6.0</td>\n",
       "      <td>True</td>\n",
       "      <td>Other</td>\n",
       "      <td>2018-10</td>\n",
       "      <td>175</td>\n",
       "      <td>natural chip</td>\n",
       "    </tr>\n",
       "    <tr>\n",
       "      <th>1</th>\n",
       "      <td>2019-05-14</td>\n",
       "      <td>1</td>\n",
       "      <td>1307</td>\n",
       "      <td>348</td>\n",
       "      <td>66</td>\n",
       "      <td>ccs nacho cheese    175g</td>\n",
       "      <td>3</td>\n",
       "      <td>6.3</td>\n",
       "      <td>False</td>\n",
       "      <td>Other</td>\n",
       "      <td>2019-05</td>\n",
       "      <td>175</td>\n",
       "      <td>ccs nacho</td>\n",
       "    </tr>\n",
       "    <tr>\n",
       "      <th>2</th>\n",
       "      <td>2019-05-20</td>\n",
       "      <td>1</td>\n",
       "      <td>1343</td>\n",
       "      <td>383</td>\n",
       "      <td>61</td>\n",
       "      <td>smiths crinkle cut  chips chicken 170g</td>\n",
       "      <td>2</td>\n",
       "      <td>2.9</td>\n",
       "      <td>True</td>\n",
       "      <td>Other</td>\n",
       "      <td>2019-05</td>\n",
       "      <td>170</td>\n",
       "      <td>smiths crinkle</td>\n",
       "    </tr>\n",
       "  </tbody>\n",
       "</table>\n",
       "</div>"
      ],
      "text/plain": [
       "        DATE  STORE_NBR  LYLTY_CARD_NBR  TXN_ID  PROD_NBR  \\\n",
       "0 2018-10-17          1            1000       1         5   \n",
       "1 2019-05-14          1            1307     348        66   \n",
       "2 2019-05-20          1            1343     383        61   \n",
       "\n",
       "                                PROD_NAME  PROD_QTY  TOT_SALES  is_chip  \\\n",
       "0  natural chip        compny seasalt175g         2        6.0     True   \n",
       "1                ccs nacho cheese    175g         3        6.3    False   \n",
       "2  smiths crinkle cut  chips chicken 170g         2        2.9     True   \n",
       "\n",
       "  season year_month Pack_Size      Brand_Name  \n",
       "0  Other    2018-10       175    natural chip  \n",
       "1  Other    2019-05       175       ccs nacho  \n",
       "2  Other    2019-05       170  smiths crinkle  "
      ]
     },
     "execution_count": 48,
     "metadata": {},
     "output_type": "execute_result"
    }
   ],
   "source": [
    "df['Brand_Name'] = df['PROD_NAME'].apply(extract_brand)\n",
    "df.head(3)"
   ]
  },
  {
   "cell_type": "markdown",
   "id": "b28d8a21-1c88-405f-add3-c672d82bee17",
   "metadata": {},
   "source": [
    "Find the most famous brand"
   ]
  },
  {
   "cell_type": "code",
   "execution_count": 49,
   "id": "e3b232f2-76f9-4537-ac56-77d76500e86c",
   "metadata": {},
   "outputs": [],
   "source": [
    "brand_sales = df.groupby('Brand_Name')['TOT_SALES'].sum().reset_index()"
   ]
  },
  {
   "cell_type": "code",
   "execution_count": 50,
   "id": "5bfa4959-1886-4a27-a438-d57e9006853e",
   "metadata": {},
   "outputs": [],
   "source": [
    "most_famous_brand = brand_sales.loc[brand_sales['TOT_SALES'].idxmax()]"
   ]
  },
  {
   "cell_type": "code",
   "execution_count": 51,
   "id": "c804a7a0-60a0-4b32-a2ab-980935e777f9",
   "metadata": {},
   "outputs": [
    {
     "name": "stdout",
     "output_type": "stream",
     "text": [
      "Total Sales per Brand:       Brand_Name  TOT_SALES\n",
      "0   burger rings     6831.0\n",
      "1      ccs nacho     5961.9\n",
      "2   ccs original     6048.0\n",
      "3      ccs tasty     6069.0\n",
      "4    cheetos chs     9243.3\n",
      "..           ...        ...\n",
      "69    ww crinkle     9234.4\n",
      "70          ww d     5249.7\n",
      "71   ww original    10691.3\n",
      "72       ww sour     5323.8\n",
      "73    ww supreme     5390.3\n",
      "\n",
      "[74 rows x 2 columns]\n",
      "\n",
      "Most Famous Brand Based on Total Sales: Brand_Name    smiths crinkle\n",
      "TOT_SALES           131142.2\n",
      "Name: 53, dtype: object\n"
     ]
    }
   ],
   "source": [
    "print(f\"Total Sales per Brand: {brand_sales}\")\n",
    "print(f\"\\nMost Famous Brand Based on Total Sales: {most_famous_brand}\")"
   ]
  },
  {
   "cell_type": "markdown",
   "id": "01d2e8cc-df94-4084-9506-0bc5ce4a503a",
   "metadata": {},
   "source": [
    "## Visualization with the top 10 most famous brands"
   ]
  },
  {
   "cell_type": "code",
   "execution_count": 52,
   "id": "5fc86a31-4502-4ebd-acd9-d903f6786209",
   "metadata": {},
   "outputs": [],
   "source": [
    "top_brands = brand_sales.sort_values(by='TOT_SALES', ascending=False).head(10)"
   ]
  },
  {
   "cell_type": "code",
   "execution_count": 53,
   "id": "f29eba5f-dd16-4eb8-9935-f2f1d1cfd7ca",
   "metadata": {},
   "outputs": [
    {
     "data": {
      "image/png": "[encoded data removed]",
      "text/plain": [
       "<Figure size 1000x600 with 1 Axes>"
      ]
     },
     "metadata": {},
     "output_type": "display_data"
    }
   ],
   "source": [
    "# Plot the histogram\n",
    "plt.figure(figsize=(10, 6))\n",
    "plt.bar(top_brands['Brand_Name'], top_brands['TOT_SALES'], color='skyblue')\n",
    "plt.title('Top 10 Most Famous Brands by Total Sales', fontsize=16)\n",
    "plt.xlabel('Brand Name', fontsize=14)\n",
    "plt.ylabel('Total Sales', fontsize=14)\n",
    "plt.xticks(rotation=45, fontsize=12)\n",
    "plt.tight_layout()\n",
    "plt.show()"
   ]
  },
  {
   "cell_type": "markdown",
   "id": "bf6ec02d-a152-4f58-a294-5ebf93102157",
   "metadata": {},
   "source": [
    "# Check the Purchasing Behaviour Dataset"
   ]
  },
  {
   "cell_type": "code",
   "execution_count": 54,
   "id": "85d3126d-cc4b-473e-81c4-74b00c2ded16",
   "metadata": {},
   "outputs": [
    {
     "data": {
      "text/html": [
       "<div>\n",
       "<style scoped>\n",
       "    .dataframe tbody tr th:only-of-type {\n",
       "        vertical-align: middle;\n",
       "    }\n",
       "\n",
       "    .dataframe tbody tr th {\n",
       "        vertical-align: top;\n",
       "    }\n",
       "\n",
       "    .dataframe thead th {\n",
       "        text-align: right;\n",
       "    }\n",
       "</style>\n",
       "<table border=\"1\" class=\"dataframe\">\n",
       "  <thead>\n",
       "    <tr style=\"text-align: right;\">\n",
       "      <th></th>\n",
       "      <th>LYLTY_CARD_NBR</th>\n",
       "      <th>LIFESTAGE</th>\n",
       "      <th>PREMIUM_CUSTOMER</th>\n",
       "    </tr>\n",
       "  </thead>\n",
       "  <tbody>\n",
       "    <tr>\n",
       "      <th>0</th>\n",
       "      <td>1000</td>\n",
       "      <td>YOUNG SINGLES/COUPLES</td>\n",
       "      <td>Premium</td>\n",
       "    </tr>\n",
       "    <tr>\n",
       "      <th>1</th>\n",
       "      <td>1002</td>\n",
       "      <td>YOUNG SINGLES/COUPLES</td>\n",
       "      <td>Mainstream</td>\n",
       "    </tr>\n",
       "    <tr>\n",
       "      <th>2</th>\n",
       "      <td>1003</td>\n",
       "      <td>YOUNG FAMILIES</td>\n",
       "      <td>Budget</td>\n",
       "    </tr>\n",
       "    <tr>\n",
       "      <th>3</th>\n",
       "      <td>1004</td>\n",
       "      <td>OLDER SINGLES/COUPLES</td>\n",
       "      <td>Mainstream</td>\n",
       "    </tr>\n",
       "    <tr>\n",
       "      <th>4</th>\n",
       "      <td>1005</td>\n",
       "      <td>MIDAGE SINGLES/COUPLES</td>\n",
       "      <td>Mainstream</td>\n",
       "    </tr>\n",
       "  </tbody>\n",
       "</table>\n",
       "</div>"
      ],
      "text/plain": [
       "   LYLTY_CARD_NBR               LIFESTAGE PREMIUM_CUSTOMER\n",
       "0            1000   YOUNG SINGLES/COUPLES          Premium\n",
       "1            1002   YOUNG SINGLES/COUPLES       Mainstream\n",
       "2            1003          YOUNG FAMILIES           Budget\n",
       "3            1004   OLDER SINGLES/COUPLES       Mainstream\n",
       "4            1005  MIDAGE SINGLES/COUPLES       Mainstream"
      ]
     },
     "execution_count": 54,
     "metadata": {},
     "output_type": "execute_result"
    }
   ],
   "source": [
    "df_p = pd.read_csv(\"QVI_purchase_behaviour.csv\")\n",
    "df_p.head(5)"
   ]
  },
  {
   "cell_type": "markdown",
   "id": "beac3bc7-8c08-40b3-a100-be36be720dde",
   "metadata": {},
   "source": [
    "# Check the data"
   ]
  },
  {
   "cell_type": "code",
   "execution_count": 55,
   "id": "3dbbeb8d-c687-46af-b6e9-6ba7ba71e313",
   "metadata": {},
   "outputs": [
    {
     "name": "stdout",
     "output_type": "stream",
     "text": [
      "<class 'pandas.core.frame.DataFrame'>\n",
      "RangeIndex: 72637 entries, 0 to 72636\n",
      "Data columns (total 3 columns):\n",
      " #   Column            Non-Null Count  Dtype \n",
      "---  ------            --------------  ----- \n",
      " 0   LYLTY_CARD_NBR    72637 non-null  int64 \n",
      " 1   LIFESTAGE         72637 non-null  object\n",
      " 2   PREMIUM_CUSTOMER  72637 non-null  object\n",
      "dtypes: int64(1), object(2)\n",
      "memory usage: 1.7+ MB\n"
     ]
    }
   ],
   "source": [
    "df_p.info()"
   ]
  },
  {
   "cell_type": "markdown",
   "id": "15296f6b-8de7-4646-ba7b-39638ce79b84",
   "metadata": {},
   "source": [
    "As it is clearly depicted there is not missing data in the dataset"
   ]
  },
  {
   "cell_type": "code",
   "execution_count": 56,
   "id": "5df60162-17e2-42a6-9a6b-93d6afe9b7c7",
   "metadata": {},
   "outputs": [
    {
     "data": {
      "text/plain": [
       "DATE              0\n",
       "STORE_NBR         0\n",
       "LYLTY_CARD_NBR    0\n",
       "TXN_ID            0\n",
       "PROD_NBR          0\n",
       "PROD_NAME         0\n",
       "PROD_QTY          0\n",
       "TOT_SALES         0\n",
       "is_chip           0\n",
       "season            0\n",
       "year_month        0\n",
       "Pack_Size         0\n",
       "Brand_Name        0\n",
       "dtype: int64"
      ]
     },
     "execution_count": 56,
     "metadata": {},
     "output_type": "execute_result"
    }
   ],
   "source": [
    "df.isnull().sum()"
   ]
  },
  {
   "cell_type": "markdown",
   "id": "f57f1139-62cc-4c60-934a-dae16554a378",
   "metadata": {},
   "source": [
    "By the second control it is clearly shown that the data has no missing values"
   ]
  },
  {
   "cell_type": "markdown",
   "id": "3d04ea31-4bf4-4c3c-96d3-02ebf43459f3",
   "metadata": {},
   "source": [
    "# Further Analysis"
   ]
  },
  {
   "cell_type": "code",
   "execution_count": 58,
   "id": "0deebdb1-f206-4d44-9d4b-8cb5394ba6d4",
   "metadata": {},
   "outputs": [
    {
     "data": {
      "text/plain": [
       "array(['YOUNG SINGLES/COUPLES', 'YOUNG FAMILIES', 'OLDER SINGLES/COUPLES',\n",
       "       'MIDAGE SINGLES/COUPLES', 'NEW FAMILIES', 'OLDER FAMILIES',\n",
       "       'RETIREES'], dtype=object)"
      ]
     },
     "execution_count": 58,
     "metadata": {},
     "output_type": "execute_result"
    }
   ],
   "source": [
    "df_p['LIFESTAGE'].unique()"
   ]
  },
  {
   "cell_type": "markdown",
   "id": "7160e6d6-0994-4c72-9162-cb8c71b14b08",
   "metadata": {},
   "source": [
    "### Visualize the data in Lifestage"
   ]
  },
  {
   "cell_type": "code",
   "execution_count": 59,
   "id": "ef3eff66-0b46-4e98-8f73-c8419d9e0e7a",
   "metadata": {},
   "outputs": [],
   "source": [
    "lifestage_counts = df_p['LIFESTAGE'].value_counts()"
   ]
  },
  {
   "cell_type": "code",
   "execution_count": null,
   "id": "3e0769d3-4d5a-4570-9302-157a19d518db",
   "metadata": {},
   "outputs": [],
   "source": [
    "plt.figure(figsize=(8, 8))\n",
    "plt.pie(\n",
    "    lifestage_counts.values, \n",
    "    labels=lifestage_counts.index, \n",
    "    autopct='%1.1f%%', \n",
    "    startangle=90, \n",
    "    textprops={'fontsize': 10}\n",
    ")\n",
    "plt.title('Lifestage Distribution')\n",
    "plt.show()"
   ]
  },
  {
   "cell_type": "markdown",
   "id": "9e3fb6ed-6265-4b92-a435-03f63fca2a81",
   "metadata": {},
   "source": [
    "As it is clearly depicted the data is not distributed evenly. There are more retirees in the dataset and less new families.\n",
    "\n",
    "Further Intepretation & Strategy\n",
    "1. Retirees are the largest group, making up over one-fifth of the customer base. This group may prefer classic flavors, nostalgic branding, or chips that are marketed as healthier (e.g., low sodium, baked, or reduced-fat options).\n",
    "a. Focus on packaging that emphasizes health-consciousness and easy-to-open designs.\n",
    "b. Place products in areas frequented by retirees (e.g., near pharmacies or senior-living communities).\n",
    "c. Introduce smaller portion sizes to cater to their consumption patterns.\n",
    "\n",
    "2. Older Singles/Couples. This group is likely to value quality over quantity and might prefer gourmet or premium options, such as artisanal or exotic-flavored chips.\n",
    "a. Highlight unique, high-quality ingredients and flavors on packaging.\n",
    "b. Offer single-serving or shareable packs that suit their smaller household size.\n",
    "c. Utilize digital marketing to target this group through social media platforms or online grocery services.\n",
    "\n",
    "3. Young Singles/Couples. Young singles and couples are likely to consume chips as a snack while socializing, gaming, or watching movies. They might gravitate toward trendy flavors, bold marketing, or eco-friendly packaging.\n",
    "a. Focus on bold, innovative flavors and visually appealing packaging.\n",
    "b. Market chips as a party or sharing snack.\n",
    "c. Leverage online platforms, influencers, and promotions on streaming or gaming services.\n",
    "\n",
    "4. Older Families: Older families with older children may buy chips for family events, school lunches, or casual snacking. This group may prefer family-sized packs and a mix of classic and modern flavors.\n",
    "a. Offer multi-packs or family-sized packaging.\n",
    "b. Emphasize value and affordability in marketing campaigns.\n",
    "c. Position chips as a great addition to family gatherings or road trips.\n",
    "\n",
    "5.  Young Families: Young families are likely shopping for snacks for both themselves and their young children. They may prefer chips marketed as kid-friendly, healthy, or suitable for packed lunches.\n",
    "a. Highlight products as kid-friendly (mild flavors, small portions).\n",
    "b. Emphasize health claims like low salt, organic, or natural ingredients.\n",
    "c. Place products in family-oriented aisles or near school snack items.\n",
    "\n",
    "6. Midage Singles/Couples: Midage singles/couples may view chips as an indulgence or complement to wine and other beverages. They could be attracted to premium or exotic options.\n",
    "a. Market chips as gourmet or luxurious treats.\n",
    "b. Pair products with beverage suggestions (e.g., wine or craft beer pairings).\n",
    "c. Utilize upscale packaging and positioning in premium sections of the store.\n",
    "\n",
    "7. New Families: As the smallest group, new families may have tight budgets and prioritize snacks that are economical and child-appropriate.\n",
    "a. Offer budget-friendly, bulk options.\n",
    "b. Market chips as affordable treats for family movie nights or picnics.\n",
    "c. Provide discounts or promotions aimed at young parents.\n"
   ]
  },
  {
   "cell_type": "markdown",
   "id": "b336d8c9-c15f-44dd-9948-380e89ab4e32",
   "metadata": {},
   "source": [
    "# Key Insights\n",
    "Retirees, older singles/couples, and young singles/couples represent nearly 60% of the market. Focus marketing efforts on these groups.\n",
    "With retirees and families making up a significant portion, introduce or highlight health-conscious products.\n",
    "\n",
    "Innovative Flavors for Younger Audiences:\n",
    "1. Young singles/couples and midage singles/couples are drawn to unique flavors and premium products.\n",
    "2. Provide various packaging options (single-serve, family-size, multi-packs) to meet the diverse needs of these groups.\n",
    "\n",
    "\n",
    "For young and midage singles/couples, focus on online sales and digital campaigns.\n",
    "1. For young and midage singles/couples, focus on online sales and digital campaigns.\n",
    "2. For retirees and families, utilize in-store promotions and community-based advertising.\n"
   ]
  },
  {
   "cell_type": "markdown",
   "id": "9c8d5abe-4dbd-4416-a7e6-03047cb42e4e",
   "metadata": {},
   "source": [
    "# Check the distribution on Premium Customer"
   ]
  },
  {
   "cell_type": "code",
   "execution_count": 60,
   "id": "35bcecb1-da02-4417-80f8-53c8bc99b3d6",
   "metadata": {},
   "outputs": [
    {
     "data": {
      "text/plain": [
       "array(['Premium', 'Mainstream', 'Budget'], dtype=object)"
      ]
     },
     "execution_count": 60,
     "metadata": {},
     "output_type": "execute_result"
    }
   ],
   "source": [
    "df_p['PREMIUM_CUSTOMER'].unique()"
   ]
  },
  {
   "cell_type": "code",
   "execution_count": 61,
   "id": "84499177-f78a-40b6-bef6-408445f40913",
   "metadata": {},
   "outputs": [],
   "source": [
    "customer_counts = df_p['PREMIUM_CUSTOMER'].value_counts()"
   ]
  },
  {
   "cell_type": "code",
   "execution_count": 62,
   "id": "43368e53-c740-4a37-8250-deb04354f13e",
   "metadata": {},
   "outputs": [
    {
     "data": {
      "image/png": "[encoded data removed]",
      "text/plain": [
       "<Figure size 800x800 with 1 Axes>"
      ]
     },
     "metadata": {},
     "output_type": "display_data"
    }
   ],
   "source": [
    "plt.figure(figsize=(8, 8))\n",
    "plt.pie(\n",
    "    customer_counts.values, \n",
    "    labels=customer_counts.index, \n",
    "    autopct='%1.1f%%', \n",
    "    startangle=90, \n",
    "    textprops={'fontsize': 10}\n",
    ")\n",
    "plt.title('Premium Customer Distribution')\n",
    "plt.show()"
   ]
  },
  {
   "cell_type": "markdown",
   "id": "0c5f7525-2d5b-4cf0-b6fb-60304055da98",
   "metadata": {},
   "source": [
    "Here the data is not evenly distributed but:\n",
    "\n",
    "Mainstream:\n",
    "1. Impact: Mainstream customers form the largest group, accounting for over 40% of shoppers. These customers seek a balance between quality and price, often opting for mid-range products that offer good value.\n",
    "2. They are value-conscious but willing to pay slightly more for perceived quality or trusted brands.\n",
    "3. Their choices often reflect a desire for reliability without extravagance.\n",
    "\n",
    "Strategy:\n",
    "1. Place products in easily accessible areas, such as eye-level shelves, to target this broad audience.\n",
    "\n",
    "Premium \n",
    "1. Impact: Premium customers represent just over a quarter of the customer base. This group prioritizes quality, brand reputation, and exclusivity over price, making them more likely to purchase high-end products.\n",
    "2. They seek premium brands, unique offerings, and products with superior quality.\n",
    "3. Often influenced by brand image, luxury packaging, or innovative features.\n",
    "\n",
    "Strategy:\n",
    "1. Offer limited-edition flavors, gourmet options, or artisanal chips to appeal to this segment.\n",
    "\n",
    "Budget: \n",
    "1. Impact: Budget customers make up about a third of shoppers, focusing primarily on affordability. They are likely to choose the cheapest options without significant consideration of brand or quality.\n",
    "2. Highly price-sensitive and likely to buy in bulk or during promotions.\n",
    "3. They may perceive chips as an occasional treat or a staple, depending on household needs.\n",
    "\n",
    "Strategy:\n",
    "1. Position budget-friendly products prominently in discount aisles or near high-traffic areas like store entrances.\n",
    "2. Offer frequent discounts, coupons, or loyalty rewards for these customers."
   ]
  },
  {
   "cell_type": "markdown",
   "id": "197764c1-83d6-4d98-9001-f0b1ee4caafd",
   "metadata": {},
   "source": [
    "##  Since the data is clean and good I will be checking whether there is a relationship between the Lifestage and Premium Category."
   ]
  },
  {
   "cell_type": "code",
   "execution_count": 63,
   "id": "a05d4516-9920-481c-b2de-8cffeaa7def1",
   "metadata": {},
   "outputs": [],
   "source": [
    "contingency_table = pd.crosstab(df_p['LIFESTAGE'], df_p['PREMIUM_CUSTOMER'])"
   ]
  },
  {
   "cell_type": "code",
   "execution_count": 64,
   "id": "276619d3-b2c9-4ee0-a460-2d8312460573",
   "metadata": {},
   "outputs": [
    {
     "data": {
      "image/png": "[encoded data removed]",
      "text/plain": [
       "<Figure size 640x480 with 2 Axes>"
      ]
     },
     "metadata": {},
     "output_type": "display_data"
    }
   ],
   "source": [
    "# Contingency table\n",
    "sns.heatmap(contingency_table, annot=True, cmap='coolwarm', fmt='d')\n",
    "plt.title('Heatmap of Lifestage vs. Category')\n",
    "plt.show()"
   ]
  },
  {
   "cell_type": "markdown",
   "id": "e3667c81-0a52-47b7-b4d5-4eff26ae5714",
   "metadata": {},
   "source": [
    "# Short Intepretation for each group\n",
    "\n",
    "Midage Singles/Couples\n",
    "1. Highest Segment: Mainstream (3340).\n",
    "2. Insights: This group primarily prefers mainstream products, indicating they prioritize value for money. They also have a significant presence in the Premium segment (2431), suggesting some willingness to pay more for quality.\n",
    "\n",
    "New Families:\n",
    "1. Highest Segment: Budget (1112).\n",
    "2. Insights: New families are highly price-sensitive, with most preferring budget products. They have a smaller presence in the Mainstream (849) and Premium (588) segments.\n",
    "\n",
    "Older Families\n",
    "1. Highest Segment: Budget (4675).\n",
    "2. Insights: Older families also show a strong preference for budget products. However, they have a notable presence in the Mainstream (2831) and Premium (2274) categories.\n",
    "\n",
    "Older Singles/Couples\n",
    "1. Highest Segment: Mainstream (4930), followed closely by Budget (4929).\n",
    "2. Insights: Older Singles/Couples are evenly split between Budget and Mainstream, showing they are value-conscious but not overly price-sensitive. The Premium segment (4750) also has significant representation.\n",
    "\n",
    "Retirees\n",
    "1. Highest Segment: Mainstream (6479).\n",
    "2. Insights: Retirees prefer mainstream products but also have a strong presence in Budget (4454) and a moderate presence in Premium (3872).\n",
    "\n",
    "Young Families\n",
    "1. Highest Segment: Budget (4017).\n",
    "2. Insights: Young families lean towards budget products, with moderate representation in Mainstream (2728) and Premium (2433).\n",
    "\n",
    "Young Singles/Couples\n",
    "1. Highest Segment: Mainstream (8088).\n",
    "2. Insights: Young Singles/Couples are the largest consumers of Mainstream products. Their presence in Budget (3779) and Premium (2574) suggests a diverse preference but a dominant leaning towards value-for-money products."
   ]
  },
  {
   "cell_type": "markdown",
   "id": "e647bca2-fc46-43f1-9a34-400e1d30394c",
   "metadata": {},
   "source": [
    "# Trends In Data Look After before merged data"
   ]
  },
  {
   "cell_type": "markdown",
   "id": "26507762-fcd3-480d-b424-3f5a2c633b41",
   "metadata": {},
   "source": [
    "Dominance of Mainstream:\n",
    "1. Mainstream products are preferred by most Lifestages, especially Retirees and Young Singles/Couples.\n",
    "2. Marketing should emphasize the value and quality of these products.\n",
    "\n",
    "Budget Sensitivity:\n",
    "1. Budget products are significant for groups like Older Families, Young Families, and New Families.\n",
    "2. Bulk discounts and family-friendly packaging can boost sales.\n",
    "\n",
    "Premium Opportunity:\n",
    "1. Premium products have a smaller share overall but are well-represented among Midage Singles/Couples and Older Singles/Couples.\n",
    "2. Emphasize quality and brand prestige for these groups."
   ]
  },
  {
   "cell_type": "markdown",
   "id": "323c4bca-92d0-4c5e-96b0-b6b948894ed1",
   "metadata": {},
   "source": [
    "# Retail And Marketing Strategy"
   ]
  },
  {
   "cell_type": "markdown",
   "id": "7a9af497-10fd-435c-aa3d-59db9a002971",
   "metadata": {},
   "source": [
    "Product Placement:\n",
    "1. Place Budget products prominently in high-traffic areas.\n",
    "2. Showcase Premium products in attractive displays to draw attention.\n",
    "\n",
    "AI Marketing - Targeting\n",
    "1. Use data-driven campaigns to target specific Lifestages with tailored messages (e.g., \"Affordable quality for families\" for Older Families and \"Indulge in the best\" for Premium segments).\n",
    "\n",
    "Innovation Culture\n",
    "1. Introduce new flavors or packaging designs for Mainstream and Premium categories, especially for Young Singles/Couples."
   ]
  },
  {
   "cell_type": "code",
   "execution_count": 65,
   "id": "d067f60c-5689-470e-8a2a-2aeb2b0cb603",
   "metadata": {},
   "outputs": [],
   "source": [
    "df_merged = pd.merge(df, df_p, on='LYLTY_CARD_NBR', how='left')"
   ]
  },
  {
   "cell_type": "code",
   "execution_count": 67,
   "id": "63632778-57e1-4af4-b333-9a82b4ab7f83",
   "metadata": {},
   "outputs": [
    {
     "data": {
      "text/html": [
       "<div>\n",
       "<style scoped>\n",
       "    .dataframe tbody tr th:only-of-type {\n",
       "        vertical-align: middle;\n",
       "    }\n",
       "\n",
       "    .dataframe tbody tr th {\n",
       "        vertical-align: top;\n",
       "    }\n",
       "\n",
       "    .dataframe thead th {\n",
       "        text-align: right;\n",
       "    }\n",
       "</style>\n",
       "<table border=\"1\" class=\"dataframe\">\n",
       "  <thead>\n",
       "    <tr style=\"text-align: right;\">\n",
       "      <th></th>\n",
       "      <th>DATE</th>\n",
       "      <th>STORE_NBR</th>\n",
       "      <th>LYLTY_CARD_NBR</th>\n",
       "      <th>TXN_ID</th>\n",
       "      <th>PROD_NBR</th>\n",
       "      <th>PROD_NAME</th>\n",
       "      <th>PROD_QTY</th>\n",
       "      <th>TOT_SALES</th>\n",
       "      <th>is_chip</th>\n",
       "      <th>season</th>\n",
       "      <th>year_month</th>\n",
       "      <th>Pack_Size</th>\n",
       "      <th>Brand_Name</th>\n",
       "      <th>LIFESTAGE</th>\n",
       "      <th>PREMIUM_CUSTOMER</th>\n",
       "    </tr>\n",
       "  </thead>\n",
       "  <tbody>\n",
       "    <tr>\n",
       "      <th>0</th>\n",
       "      <td>2018-10-17</td>\n",
       "      <td>1</td>\n",
       "      <td>1000</td>\n",
       "      <td>1</td>\n",
       "      <td>5</td>\n",
       "      <td>natural chip        compny seasalt175g</td>\n",
       "      <td>2</td>\n",
       "      <td>6.0</td>\n",
       "      <td>True</td>\n",
       "      <td>Other</td>\n",
       "      <td>2018-10</td>\n",
       "      <td>175</td>\n",
       "      <td>natural chip</td>\n",
       "      <td>YOUNG SINGLES/COUPLES</td>\n",
       "      <td>Premium</td>\n",
       "    </tr>\n",
       "    <tr>\n",
       "      <th>1</th>\n",
       "      <td>2019-05-14</td>\n",
       "      <td>1</td>\n",
       "      <td>1307</td>\n",
       "      <td>348</td>\n",
       "      <td>66</td>\n",
       "      <td>ccs nacho cheese    175g</td>\n",
       "      <td>3</td>\n",
       "      <td>6.3</td>\n",
       "      <td>False</td>\n",
       "      <td>Other</td>\n",
       "      <td>2019-05</td>\n",
       "      <td>175</td>\n",
       "      <td>ccs nacho</td>\n",
       "      <td>MIDAGE SINGLES/COUPLES</td>\n",
       "      <td>Budget</td>\n",
       "    </tr>\n",
       "    <tr>\n",
       "      <th>2</th>\n",
       "      <td>2019-05-20</td>\n",
       "      <td>1</td>\n",
       "      <td>1343</td>\n",
       "      <td>383</td>\n",
       "      <td>61</td>\n",
       "      <td>smiths crinkle cut  chips chicken 170g</td>\n",
       "      <td>2</td>\n",
       "      <td>2.9</td>\n",
       "      <td>True</td>\n",
       "      <td>Other</td>\n",
       "      <td>2019-05</td>\n",
       "      <td>170</td>\n",
       "      <td>smiths crinkle</td>\n",
       "      <td>MIDAGE SINGLES/COUPLES</td>\n",
       "      <td>Budget</td>\n",
       "    </tr>\n",
       "    <tr>\n",
       "      <th>3</th>\n",
       "      <td>2018-08-17</td>\n",
       "      <td>2</td>\n",
       "      <td>2373</td>\n",
       "      <td>974</td>\n",
       "      <td>69</td>\n",
       "      <td>smiths chip thinly  s/cream&amp;onion 175g</td>\n",
       "      <td>5</td>\n",
       "      <td>15.0</td>\n",
       "      <td>True</td>\n",
       "      <td>Other</td>\n",
       "      <td>2018-08</td>\n",
       "      <td>175</td>\n",
       "      <td>smiths chip</td>\n",
       "      <td>MIDAGE SINGLES/COUPLES</td>\n",
       "      <td>Budget</td>\n",
       "    </tr>\n",
       "    <tr>\n",
       "      <th>4</th>\n",
       "      <td>2018-08-18</td>\n",
       "      <td>2</td>\n",
       "      <td>2426</td>\n",
       "      <td>1038</td>\n",
       "      <td>108</td>\n",
       "      <td>kettle tortilla chpshny&amp;jlpno chili 150g</td>\n",
       "      <td>3</td>\n",
       "      <td>13.8</td>\n",
       "      <td>False</td>\n",
       "      <td>Other</td>\n",
       "      <td>2018-08</td>\n",
       "      <td>150</td>\n",
       "      <td>kettle tortilla</td>\n",
       "      <td>MIDAGE SINGLES/COUPLES</td>\n",
       "      <td>Budget</td>\n",
       "    </tr>\n",
       "    <tr>\n",
       "      <th>5</th>\n",
       "      <td>2019-05-19</td>\n",
       "      <td>4</td>\n",
       "      <td>4074</td>\n",
       "      <td>2982</td>\n",
       "      <td>57</td>\n",
       "      <td>old el paso salsa   dip tomato mild 300g</td>\n",
       "      <td>1</td>\n",
       "      <td>5.1</td>\n",
       "      <td>False</td>\n",
       "      <td>Other</td>\n",
       "      <td>2019-05</td>\n",
       "      <td>300</td>\n",
       "      <td>old el</td>\n",
       "      <td>MIDAGE SINGLES/COUPLES</td>\n",
       "      <td>Budget</td>\n",
       "    </tr>\n",
       "    <tr>\n",
       "      <th>6</th>\n",
       "      <td>2019-05-16</td>\n",
       "      <td>4</td>\n",
       "      <td>4149</td>\n",
       "      <td>3333</td>\n",
       "      <td>16</td>\n",
       "      <td>smiths crinkle chips salt &amp; vinegar 330g</td>\n",
       "      <td>1</td>\n",
       "      <td>5.7</td>\n",
       "      <td>True</td>\n",
       "      <td>Other</td>\n",
       "      <td>2019-05</td>\n",
       "      <td>330</td>\n",
       "      <td>smiths crinkle</td>\n",
       "      <td>MIDAGE SINGLES/COUPLES</td>\n",
       "      <td>Budget</td>\n",
       "    </tr>\n",
       "    <tr>\n",
       "      <th>7</th>\n",
       "      <td>2019-05-16</td>\n",
       "      <td>4</td>\n",
       "      <td>4196</td>\n",
       "      <td>3539</td>\n",
       "      <td>24</td>\n",
       "      <td>grain waves         sweet chilli 210g</td>\n",
       "      <td>1</td>\n",
       "      <td>3.6</td>\n",
       "      <td>False</td>\n",
       "      <td>Other</td>\n",
       "      <td>2019-05</td>\n",
       "      <td>210</td>\n",
       "      <td>grain waves</td>\n",
       "      <td>MIDAGE SINGLES/COUPLES</td>\n",
       "      <td>Budget</td>\n",
       "    </tr>\n",
       "    <tr>\n",
       "      <th>8</th>\n",
       "      <td>2018-08-20</td>\n",
       "      <td>5</td>\n",
       "      <td>5026</td>\n",
       "      <td>4525</td>\n",
       "      <td>42</td>\n",
       "      <td>doritos corn chip mexican jalapeno 150g</td>\n",
       "      <td>1</td>\n",
       "      <td>3.9</td>\n",
       "      <td>True</td>\n",
       "      <td>Other</td>\n",
       "      <td>2018-08</td>\n",
       "      <td>150</td>\n",
       "      <td>doritos corn</td>\n",
       "      <td>MIDAGE SINGLES/COUPLES</td>\n",
       "      <td>Budget</td>\n",
       "    </tr>\n",
       "    <tr>\n",
       "      <th>9</th>\n",
       "      <td>2018-08-18</td>\n",
       "      <td>7</td>\n",
       "      <td>7150</td>\n",
       "      <td>6900</td>\n",
       "      <td>52</td>\n",
       "      <td>grain waves sour    cream&amp;chives 210g</td>\n",
       "      <td>2</td>\n",
       "      <td>7.2</td>\n",
       "      <td>False</td>\n",
       "      <td>Other</td>\n",
       "      <td>2018-08</td>\n",
       "      <td>210</td>\n",
       "      <td>grain waves</td>\n",
       "      <td>MIDAGE SINGLES/COUPLES</td>\n",
       "      <td>Budget</td>\n",
       "    </tr>\n",
       "  </tbody>\n",
       "</table>\n",
       "</div>"
      ],
      "text/plain": [
       "        DATE  STORE_NBR  LYLTY_CARD_NBR  TXN_ID  PROD_NBR  \\\n",
       "0 2018-10-17          1            1000       1         5   \n",
       "1 2019-05-14          1            1307     348        66   \n",
       "2 2019-05-20          1            1343     383        61   \n",
       "3 2018-08-17          2            2373     974        69   \n",
       "4 2018-08-18          2            2426    1038       108   \n",
       "5 2019-05-19          4            4074    2982        57   \n",
       "6 2019-05-16          4            4149    3333        16   \n",
       "7 2019-05-16          4            4196    3539        24   \n",
       "8 2018-08-20          5            5026    4525        42   \n",
       "9 2018-08-18          7            7150    6900        52   \n",
       "\n",
       "                                  PROD_NAME  PROD_QTY  TOT_SALES  is_chip  \\\n",
       "0    natural chip        compny seasalt175g         2        6.0     True   \n",
       "1                  ccs nacho cheese    175g         3        6.3    False   \n",
       "2    smiths crinkle cut  chips chicken 170g         2        2.9     True   \n",
       "3    smiths chip thinly  s/cream&onion 175g         5       15.0     True   \n",
       "4  kettle tortilla chpshny&jlpno chili 150g         3       13.8    False   \n",
       "5  old el paso salsa   dip tomato mild 300g         1        5.1    False   \n",
       "6  smiths crinkle chips salt & vinegar 330g         1        5.7     True   \n",
       "7     grain waves         sweet chilli 210g         1        3.6    False   \n",
       "8   doritos corn chip mexican jalapeno 150g         1        3.9     True   \n",
       "9     grain waves sour    cream&chives 210g         2        7.2    False   \n",
       "\n",
       "  season year_month Pack_Size       Brand_Name               LIFESTAGE  \\\n",
       "0  Other    2018-10       175     natural chip   YOUNG SINGLES/COUPLES   \n",
       "1  Other    2019-05       175        ccs nacho  MIDAGE SINGLES/COUPLES   \n",
       "2  Other    2019-05       170   smiths crinkle  MIDAGE SINGLES/COUPLES   \n",
       "3  Other    2018-08       175      smiths chip  MIDAGE SINGLES/COUPLES   \n",
       "4  Other    2018-08       150  kettle tortilla  MIDAGE SINGLES/COUPLES   \n",
       "5  Other    2019-05       300           old el  MIDAGE SINGLES/COUPLES   \n",
       "6  Other    2019-05       330   smiths crinkle  MIDAGE SINGLES/COUPLES   \n",
       "7  Other    2019-05       210      grain waves  MIDAGE SINGLES/COUPLES   \n",
       "8  Other    2018-08       150     doritos corn  MIDAGE SINGLES/COUPLES   \n",
       "9  Other    2018-08       210      grain waves  MIDAGE SINGLES/COUPLES   \n",
       "\n",
       "  PREMIUM_CUSTOMER  \n",
       "0          Premium  \n",
       "1           Budget  \n",
       "2           Budget  \n",
       "3           Budget  \n",
       "4           Budget  \n",
       "5           Budget  \n",
       "6           Budget  \n",
       "7           Budget  \n",
       "8           Budget  \n",
       "9           Budget  "
      ]
     },
     "execution_count": 67,
     "metadata": {},
     "output_type": "execute_result"
    }
   ],
   "source": [
    "df_merged.head(10)"
   ]
  },
  {
   "cell_type": "markdown",
   "id": "a8d17fc7-d09c-48cd-8168-5631aba39028",
   "metadata": {},
   "source": [
    "Drop from the merge file the duplicates"
   ]
  },
  {
   "cell_type": "code",
   "execution_count": 68,
   "id": "075073db-e528-4b88-9593-f328c710a29f",
   "metadata": {},
   "outputs": [],
   "source": [
    "df_merged = df_merged.drop_duplicates()"
   ]
  },
  {
   "cell_type": "code",
   "execution_count": 69,
   "id": "72cff3ec-8059-400d-9e02-33c9131f99dd",
   "metadata": {},
   "outputs": [
    {
     "data": {
      "text/html": [
       "<div>\n",
       "<style scoped>\n",
       "    .dataframe tbody tr th:only-of-type {\n",
       "        vertical-align: middle;\n",
       "    }\n",
       "\n",
       "    .dataframe tbody tr th {\n",
       "        vertical-align: top;\n",
       "    }\n",
       "\n",
       "    .dataframe thead th {\n",
       "        text-align: right;\n",
       "    }\n",
       "</style>\n",
       "<table border=\"1\" class=\"dataframe\">\n",
       "  <thead>\n",
       "    <tr style=\"text-align: right;\">\n",
       "      <th></th>\n",
       "      <th>DATE</th>\n",
       "      <th>STORE_NBR</th>\n",
       "      <th>LYLTY_CARD_NBR</th>\n",
       "      <th>TXN_ID</th>\n",
       "      <th>PROD_NBR</th>\n",
       "      <th>PROD_NAME</th>\n",
       "      <th>PROD_QTY</th>\n",
       "      <th>TOT_SALES</th>\n",
       "      <th>is_chip</th>\n",
       "      <th>season</th>\n",
       "      <th>year_month</th>\n",
       "      <th>Pack_Size</th>\n",
       "      <th>Brand_Name</th>\n",
       "      <th>LIFESTAGE</th>\n",
       "      <th>PREMIUM_CUSTOMER</th>\n",
       "    </tr>\n",
       "  </thead>\n",
       "  <tbody>\n",
       "    <tr>\n",
       "      <th>0</th>\n",
       "      <td>2018-10-17</td>\n",
       "      <td>1</td>\n",
       "      <td>1000</td>\n",
       "      <td>1</td>\n",
       "      <td>5</td>\n",
       "      <td>natural chip        compny seasalt175g</td>\n",
       "      <td>2</td>\n",
       "      <td>6.0</td>\n",
       "      <td>True</td>\n",
       "      <td>Other</td>\n",
       "      <td>2018-10</td>\n",
       "      <td>175</td>\n",
       "      <td>natural chip</td>\n",
       "      <td>YOUNG SINGLES/COUPLES</td>\n",
       "      <td>Premium</td>\n",
       "    </tr>\n",
       "    <tr>\n",
       "      <th>1</th>\n",
       "      <td>2019-05-14</td>\n",
       "      <td>1</td>\n",
       "      <td>1307</td>\n",
       "      <td>348</td>\n",
       "      <td>66</td>\n",
       "      <td>ccs nacho cheese    175g</td>\n",
       "      <td>3</td>\n",
       "      <td>6.3</td>\n",
       "      <td>False</td>\n",
       "      <td>Other</td>\n",
       "      <td>2019-05</td>\n",
       "      <td>175</td>\n",
       "      <td>ccs nacho</td>\n",
       "      <td>MIDAGE SINGLES/COUPLES</td>\n",
       "      <td>Budget</td>\n",
       "    </tr>\n",
       "    <tr>\n",
       "      <th>2</th>\n",
       "      <td>2019-05-20</td>\n",
       "      <td>1</td>\n",
       "      <td>1343</td>\n",
       "      <td>383</td>\n",
       "      <td>61</td>\n",
       "      <td>smiths crinkle cut  chips chicken 170g</td>\n",
       "      <td>2</td>\n",
       "      <td>2.9</td>\n",
       "      <td>True</td>\n",
       "      <td>Other</td>\n",
       "      <td>2019-05</td>\n",
       "      <td>170</td>\n",
       "      <td>smiths crinkle</td>\n",
       "      <td>MIDAGE SINGLES/COUPLES</td>\n",
       "      <td>Budget</td>\n",
       "    </tr>\n",
       "    <tr>\n",
       "      <th>3</th>\n",
       "      <td>2018-08-17</td>\n",
       "      <td>2</td>\n",
       "      <td>2373</td>\n",
       "      <td>974</td>\n",
       "      <td>69</td>\n",
       "      <td>smiths chip thinly  s/cream&amp;onion 175g</td>\n",
       "      <td>5</td>\n",
       "      <td>15.0</td>\n",
       "      <td>True</td>\n",
       "      <td>Other</td>\n",
       "      <td>2018-08</td>\n",
       "      <td>175</td>\n",
       "      <td>smiths chip</td>\n",
       "      <td>MIDAGE SINGLES/COUPLES</td>\n",
       "      <td>Budget</td>\n",
       "    </tr>\n",
       "    <tr>\n",
       "      <th>4</th>\n",
       "      <td>2018-08-18</td>\n",
       "      <td>2</td>\n",
       "      <td>2426</td>\n",
       "      <td>1038</td>\n",
       "      <td>108</td>\n",
       "      <td>kettle tortilla chpshny&amp;jlpno chili 150g</td>\n",
       "      <td>3</td>\n",
       "      <td>13.8</td>\n",
       "      <td>False</td>\n",
       "      <td>Other</td>\n",
       "      <td>2018-08</td>\n",
       "      <td>150</td>\n",
       "      <td>kettle tortilla</td>\n",
       "      <td>MIDAGE SINGLES/COUPLES</td>\n",
       "      <td>Budget</td>\n",
       "    </tr>\n",
       "    <tr>\n",
       "      <th>...</th>\n",
       "      <td>...</td>\n",
       "      <td>...</td>\n",
       "      <td>...</td>\n",
       "      <td>...</td>\n",
       "      <td>...</td>\n",
       "      <td>...</td>\n",
       "      <td>...</td>\n",
       "      <td>...</td>\n",
       "      <td>...</td>\n",
       "      <td>...</td>\n",
       "      <td>...</td>\n",
       "      <td>...</td>\n",
       "      <td>...</td>\n",
       "      <td>...</td>\n",
       "      <td>...</td>\n",
       "    </tr>\n",
       "    <tr>\n",
       "      <th>264831</th>\n",
       "      <td>2019-03-09</td>\n",
       "      <td>272</td>\n",
       "      <td>272319</td>\n",
       "      <td>270088</td>\n",
       "      <td>89</td>\n",
       "      <td>kettle sweet chilli and sour cream 175g</td>\n",
       "      <td>2</td>\n",
       "      <td>10.8</td>\n",
       "      <td>False</td>\n",
       "      <td>Other</td>\n",
       "      <td>2019-03</td>\n",
       "      <td>175</td>\n",
       "      <td>kettle sweet</td>\n",
       "      <td>YOUNG SINGLES/COUPLES</td>\n",
       "      <td>Premium</td>\n",
       "    </tr>\n",
       "    <tr>\n",
       "      <th>264832</th>\n",
       "      <td>2018-08-13</td>\n",
       "      <td>272</td>\n",
       "      <td>272358</td>\n",
       "      <td>270154</td>\n",
       "      <td>74</td>\n",
       "      <td>tostitos splash of  lime 175g</td>\n",
       "      <td>1</td>\n",
       "      <td>4.4</td>\n",
       "      <td>False</td>\n",
       "      <td>Other</td>\n",
       "      <td>2018-08</td>\n",
       "      <td>175</td>\n",
       "      <td>tostitos splash</td>\n",
       "      <td>YOUNG SINGLES/COUPLES</td>\n",
       "      <td>Premium</td>\n",
       "    </tr>\n",
       "    <tr>\n",
       "      <th>264833</th>\n",
       "      <td>2018-11-06</td>\n",
       "      <td>272</td>\n",
       "      <td>272379</td>\n",
       "      <td>270187</td>\n",
       "      <td>51</td>\n",
       "      <td>doritos mexicana    170g</td>\n",
       "      <td>2</td>\n",
       "      <td>8.8</td>\n",
       "      <td>False</td>\n",
       "      <td>Other</td>\n",
       "      <td>2018-11</td>\n",
       "      <td>170</td>\n",
       "      <td>doritos mexicana</td>\n",
       "      <td>YOUNG SINGLES/COUPLES</td>\n",
       "      <td>Premium</td>\n",
       "    </tr>\n",
       "    <tr>\n",
       "      <th>264834</th>\n",
       "      <td>2018-12-27</td>\n",
       "      <td>272</td>\n",
       "      <td>272379</td>\n",
       "      <td>270188</td>\n",
       "      <td>42</td>\n",
       "      <td>doritos corn chip mexican jalapeno 150g</td>\n",
       "      <td>2</td>\n",
       "      <td>7.8</td>\n",
       "      <td>True</td>\n",
       "      <td>Christmas</td>\n",
       "      <td>2018-12</td>\n",
       "      <td>150</td>\n",
       "      <td>doritos corn</td>\n",
       "      <td>YOUNG SINGLES/COUPLES</td>\n",
       "      <td>Premium</td>\n",
       "    </tr>\n",
       "    <tr>\n",
       "      <th>264835</th>\n",
       "      <td>2018-09-22</td>\n",
       "      <td>272</td>\n",
       "      <td>272380</td>\n",
       "      <td>270189</td>\n",
       "      <td>74</td>\n",
       "      <td>tostitos splash of  lime 175g</td>\n",
       "      <td>2</td>\n",
       "      <td>8.8</td>\n",
       "      <td>False</td>\n",
       "      <td>Other</td>\n",
       "      <td>2018-09</td>\n",
       "      <td>175</td>\n",
       "      <td>tostitos splash</td>\n",
       "      <td>YOUNG SINGLES/COUPLES</td>\n",
       "      <td>Premium</td>\n",
       "    </tr>\n",
       "  </tbody>\n",
       "</table>\n",
       "<p>264835 rows × 15 columns</p>\n",
       "</div>"
      ],
      "text/plain": [
       "             DATE  STORE_NBR  LYLTY_CARD_NBR  TXN_ID  PROD_NBR  \\\n",
       "0      2018-10-17          1            1000       1         5   \n",
       "1      2019-05-14          1            1307     348        66   \n",
       "2      2019-05-20          1            1343     383        61   \n",
       "3      2018-08-17          2            2373     974        69   \n",
       "4      2018-08-18          2            2426    1038       108   \n",
       "...           ...        ...             ...     ...       ...   \n",
       "264831 2019-03-09        272          272319  270088        89   \n",
       "264832 2018-08-13        272          272358  270154        74   \n",
       "264833 2018-11-06        272          272379  270187        51   \n",
       "264834 2018-12-27        272          272379  270188        42   \n",
       "264835 2018-09-22        272          272380  270189        74   \n",
       "\n",
       "                                       PROD_NAME  PROD_QTY  TOT_SALES  \\\n",
       "0         natural chip        compny seasalt175g         2        6.0   \n",
       "1                       ccs nacho cheese    175g         3        6.3   \n",
       "2         smiths crinkle cut  chips chicken 170g         2        2.9   \n",
       "3         smiths chip thinly  s/cream&onion 175g         5       15.0   \n",
       "4       kettle tortilla chpshny&jlpno chili 150g         3       13.8   \n",
       "...                                          ...       ...        ...   \n",
       "264831   kettle sweet chilli and sour cream 175g         2       10.8   \n",
       "264832             tostitos splash of  lime 175g         1        4.4   \n",
       "264833                  doritos mexicana    170g         2        8.8   \n",
       "264834   doritos corn chip mexican jalapeno 150g         2        7.8   \n",
       "264835             tostitos splash of  lime 175g         2        8.8   \n",
       "\n",
       "        is_chip     season year_month Pack_Size        Brand_Name  \\\n",
       "0          True      Other    2018-10       175      natural chip   \n",
       "1         False      Other    2019-05       175         ccs nacho   \n",
       "2          True      Other    2019-05       170    smiths crinkle   \n",
       "3          True      Other    2018-08       175       smiths chip   \n",
       "4         False      Other    2018-08       150   kettle tortilla   \n",
       "...         ...        ...        ...       ...               ...   \n",
       "264831    False      Other    2019-03       175      kettle sweet   \n",
       "264832    False      Other    2018-08       175   tostitos splash   \n",
       "264833    False      Other    2018-11       170  doritos mexicana   \n",
       "264834     True  Christmas    2018-12       150      doritos corn   \n",
       "264835    False      Other    2018-09       175   tostitos splash   \n",
       "\n",
       "                     LIFESTAGE PREMIUM_CUSTOMER  \n",
       "0        YOUNG SINGLES/COUPLES          Premium  \n",
       "1       MIDAGE SINGLES/COUPLES           Budget  \n",
       "2       MIDAGE SINGLES/COUPLES           Budget  \n",
       "3       MIDAGE SINGLES/COUPLES           Budget  \n",
       "4       MIDAGE SINGLES/COUPLES           Budget  \n",
       "...                        ...              ...  \n",
       "264831   YOUNG SINGLES/COUPLES          Premium  \n",
       "264832   YOUNG SINGLES/COUPLES          Premium  \n",
       "264833   YOUNG SINGLES/COUPLES          Premium  \n",
       "264834   YOUNG SINGLES/COUPLES          Premium  \n",
       "264835   YOUNG SINGLES/COUPLES          Premium  \n",
       "\n",
       "[264835 rows x 15 columns]"
      ]
     },
     "execution_count": 69,
     "metadata": {},
     "output_type": "execute_result"
    }
   ],
   "source": [
    "df_merged"
   ]
  },
  {
   "cell_type": "markdown",
   "id": "1d40d00b-c153-4614-a821-320f90e972ed",
   "metadata": {},
   "source": [
    "# Data Analysis On Customer Segments\n",
    "\n",
    "Who spends the most on chips (total sales), describing customers by lifestage and\n",
    "how premium their general purchasing behaviour is\n"
   ]
  },
  {
   "cell_type": "code",
   "execution_count": 71,
   "id": "1144caa5-5d3e-4541-9f30-3880a10f3c38",
   "metadata": {},
   "outputs": [],
   "source": [
    "# First group the data based on Lifestage and Premium Purchasing Behaviour\n",
    "spending_analysis = (\n",
    "    df_merged.groupby(['LIFESTAGE', 'PREMIUM_CUSTOMER'])['TOT_SALES']\n",
    "    .sum()\n",
    "    .reset_index()\n",
    "    .sort_values(by='TOT_SALES', ascending=False)\n",
    ")"
   ]
  },
  {
   "cell_type": "code",
   "execution_count": 73,
   "id": "c9f810fd-f5ce-4bbe-a211-7b129cafbf82",
   "metadata": {},
   "outputs": [
    {
     "name": "stdout",
     "output_type": "stream",
     "text": [
      "The group that spends the most on chips is: \n",
      " LIFESTAGE           OLDER FAMILIES\n",
      "PREMIUM_CUSTOMER            Budget\n",
      "TOT_SALES                168363.25\n",
      "Name: 6, dtype: object\n"
     ]
    }
   ],
   "source": [
    "# Print the top group \n",
    "top_spender = spending_analysis.iloc[0]\n",
    "print(f\"The group that spends the most on chips is: \\n {top_spender}\")"
   ]
  },
  {
   "cell_type": "code",
   "execution_count": 101,
   "id": "52928880-9af3-4db4-b216-4f57b8a03c36",
   "metadata": {},
   "outputs": [
    {
     "name": "stdout",
     "output_type": "stream",
     "text": [
      "                 LIFESTAGE PREMIUM_CUSTOMER  TOT_SALES\n",
      "5             NEW FAMILIES          Premium   11491.10\n",
      "4             NEW FAMILIES       Mainstream   17013.90\n",
      "3             NEW FAMILIES           Budget   21928.45\n",
      "0   MIDAGE SINGLES/COUPLES           Budget   35514.80\n",
      "20   YOUNG SINGLES/COUPLES          Premium   41642.10\n",
      "2   MIDAGE SINGLES/COUPLES          Premium   58432.65\n",
      "18   YOUNG SINGLES/COUPLES           Budget   61141.60\n",
      "8           OLDER FAMILIES          Premium   81958.40\n",
      "17          YOUNG FAMILIES          Premium   84025.50\n",
      "1   MIDAGE SINGLES/COUPLES       Mainstream   90803.85\n",
      "16          YOUNG FAMILIES       Mainstream   92788.75\n",
      "14                RETIREES          Premium   97646.05\n",
      "7           OLDER FAMILIES       Mainstream  103445.55\n",
      "12                RETIREES           Budget  113147.80\n",
      "11   OLDER SINGLES/COUPLES          Premium  132257.15\n",
      "10   OLDER SINGLES/COUPLES       Mainstream  133393.80\n",
      "9    OLDER SINGLES/COUPLES           Budget  136769.80\n",
      "15          YOUNG FAMILIES           Budget  139345.85\n",
      "13                RETIREES       Mainstream  155677.05\n",
      "19   YOUNG SINGLES/COUPLES       Mainstream  157621.60\n",
      "6           OLDER FAMILIES           Budget  168363.25\n"
     ]
    }
   ],
   "source": [
    "print(spending_analysis)\n",
    "spending_analysis.to_csv(\"spending_analysis.csv\")"
   ]
  },
  {
   "cell_type": "code",
   "execution_count": 77,
   "id": "22ab3d3d-d8b7-4379-927b-35fd333c0bbb",
   "metadata": {},
   "outputs": [
    {
     "data": {
      "text/plain": [
       "<Axes: ylabel='LIFESTAGE,PREMIUM_CUSTOMER'>"
      ]
     },
     "execution_count": 77,
     "metadata": {},
     "output_type": "execute_result"
    },
    {
     "data": {
      "image/png": "[encoded data removed]",
      "text/plain": [
       "<Figure size 1200x600 with 1 Axes>"
      ]
     },
     "metadata": {},
     "output_type": "display_data"
    }
   ],
   "source": [
    "spending_analysis.sort_values(by='TOT_SALES', ascending=True, inplace=True)\n",
    "spending_analysis.set_index(['LIFESTAGE', 'PREMIUM_CUSTOMER']).plot.barh(\n",
    "    figsize=(12, 6), stacked=True, color=['#1f77b4', '#ff7f0e', '#2ca02c']\n",
    ")"
   ]
  },
  {
   "cell_type": "markdown",
   "id": "db835cf1-725b-436d-857a-339a217bb73a",
   "metadata": {},
   "source": [
    "# Intepretation - Insights - Strategy\n",
    "\n",
    "Top three customer segments by total sales are:\n",
    "1. Older Families (Budget): €168,363.25\n",
    "2. Young Singles/Couples (Mainstream): €157,621.60\n",
    "3. Retirees (Mainstream): €155,677.05\n",
    "\n",
    "##### Segment 1: Older Families (Budget)\n",
    "\n",
    "Characteristics:\n",
    "1. Likely looking for cost-effective options.\n",
    "2. Tend to prioritize value over premium products.\n",
    "\n",
    "Strategy:\n",
    "1. Focus on promotions: Offer bulk discounts and family-sized packaging for chips.\n",
    "2. Highlight value for money in marketing campaigns.\n",
    "3. Place products in areas where families shop, like supermarkets and discount stores.\n",
    "4. Loyalty programs: Offer rewards for frequent purchases\n",
    "\n",
    "##### Segment 2: Young Singles/Couples (Mainstream)\n",
    "\n",
    "Characteristics:\n",
    "1. Likely more open to trying new products but prefer popular brands or mainstream products.\n",
    "\n",
    "Strategy:\n",
    "1. Introduce limited-time offers or new flavors to attract attention.\n",
    "2. Use social media campaigns targeting younger demographics (e.g., Instagram, TikTok).\n",
    "3. Collaborate with mainstream retailers for exclusive deals on chips.\n",
    "4. Include products in party packs or snack combos for group occasions.\n",
    "\n",
    "##### Segment 3: Retirees (Mainstream)\n",
    "\n",
    "Characteristics:\n",
    "1. Likely prefer familiar brands with trusted quality.\n",
    "\n",
    "Strategy:\n",
    "1. Market chips with health-conscious branding (e.g., lower salt, organic options).\n",
    "2. Highlight product trustworthiness and legacy branding in advertisements.\n",
    "3. Distribute products in stores frequented by retirees (e.g., pharmacies or neighborhood markets).\n",
    "4. Offer discounts for bulk purchases or senior citizen deals.\n"
   ]
  },
  {
   "cell_type": "markdown",
   "id": "916d3118-d8a9-4181-9deb-e10bf3589ed8",
   "metadata": {},
   "source": [
    "# Count number of customers per segment"
   ]
  },
  {
   "cell_type": "code",
   "execution_count": 79,
   "id": "74c14208-a69e-4d1d-b4d1-fee583c02ed4",
   "metadata": {},
   "outputs": [],
   "source": [
    "customer_segments = df_merged.groupby(['LIFESTAGE', 'PREMIUM_CUSTOMER']).size().reset_index(name='Customer_Count')"
   ]
  },
  {
   "cell_type": "code",
   "execution_count": 81,
   "id": "fd8682e1-4f18-4b57-82fe-c897e563d823",
   "metadata": {},
   "outputs": [],
   "source": [
    "customer_segments_pivot = customer_segments.pivot(index='LIFESTAGE', columns='PREMIUM_CUSTOMER', values='Customer_Count')"
   ]
  },
  {
   "cell_type": "code",
   "execution_count": 82,
   "id": "e679c144-f632-4418-b664-26e1910d3afd",
   "metadata": {},
   "outputs": [
    {
     "data": {
      "image/png": "[encoded data removed]",
      "text/plain": [
       "<Figure size 640x480 with 2 Axes>"
      ]
     },
     "metadata": {},
     "output_type": "display_data"
    }
   ],
   "source": [
    "sns.heatmap(\n",
    "    customer_segments_pivot,\n",
    "    annot=True,\n",
    "    fmt='d',\n",
    "    cmap='YlGnBu',\n",
    "    linewidths=0.5\n",
    ")\n",
    "\n",
    "plt.title('Customer Count by Lifestage and Premium Behavior')\n",
    "plt.ylabel('Lifestage')\n",
    "plt.xlabel('Premium Behavior')\n",
    "plt.show()"
   ]
  },
  {
   "cell_type": "markdown",
   "id": "f2a6b4c2-c365-4552-bd44-1b936f4fdc6d",
   "metadata": {},
   "source": [
    "# - How many chips are bought per customer by segment"
   ]
  },
  {
   "cell_type": "code",
   "execution_count": 86,
   "id": "c764a9c9-a582-4085-9ce3-c03d2632746f",
   "metadata": {},
   "outputs": [],
   "source": [
    "# Group by 'Lifestage' and 'Premium_Behavior' and calculate total chips bought and customer count\n",
    "segment_data = df_merged.groupby(['LIFESTAGE', 'PREMIUM_CUSTOMER']).agg(\n",
    "    Total_Chips_Bought=('PROD_QTY', 'sum'),  # Total quantity of chips bought\n",
    "    Customer_Count=('LYLTY_CARD_NBR', 'nunique')  # Unique customers in each segment\n",
    ").reset_index()\n"
   ]
  },
  {
   "cell_type": "code",
   "execution_count": 87,
   "id": "e7e9b758-a8aa-4b4a-b338-65753c05120f",
   "metadata": {},
   "outputs": [],
   "source": [
    "# Calculate chips brought per customer\n",
    "segment_data['Chips_Per_Customer'] = segment_data['Total_Chips_Bought'] / segment_data['Customer_Count']"
   ]
  },
  {
   "cell_type": "code",
   "execution_count": 89,
   "id": "035f6270-6371-4044-9a7a-5ca620d98cbf",
   "metadata": {},
   "outputs": [
    {
     "data": {
      "image/png": "[encoded data removed]",
      "text/plain": [
       "<Figure size 1200x600 with 1 Axes>"
      ]
     },
     "metadata": {},
     "output_type": "display_data"
    }
   ],
   "source": [
    "plt.figure(figsize=(12, 6))\n",
    "sns.barplot(\n",
    "    data=segment_data,\n",
    "    x='LIFESTAGE',\n",
    "    y='Chips_Per_Customer',\n",
    "    hue='PREMIUM_CUSTOMER',\n",
    "    palette='viridis'\n",
    ")\n",
    "\n",
    "plt.title('Average Chips Bought Per Customer by Segment')\n",
    "plt.ylabel('Chips Per Customer')\n",
    "plt.xlabel('Lifestage')\n",
    "plt.legend(title='Premium Behavior')\n",
    "plt.show()"
   ]
  },
  {
   "cell_type": "markdown",
   "id": "b32da10b-8c05-45b5-b5b2-569cb69c10ae",
   "metadata": {},
   "source": [
    "# - What's the average chip price by customer segment"
   ]
  },
  {
   "cell_type": "code",
   "execution_count": 92,
   "id": "beed874b-d058-44be-811a-4f7461924f59",
   "metadata": {},
   "outputs": [],
   "source": [
    "# Group by 'Lifestage' and 'Premium_Behavior' and calculate total sales and quantity\n",
    "segment_chip_price = df_merged.groupby(['LIFESTAGE', 'PREMIUM_CUSTOMER']).agg(\n",
    "    Total_Sales=('TOT_SALES', 'sum'),\n",
    "    Total_Quantity=('PROD_QTY', 'sum')\n",
    ").reset_index()"
   ]
  },
  {
   "cell_type": "code",
   "execution_count": 93,
   "id": "10180488-0a63-4a63-b75a-207a5ab73f7e",
   "metadata": {},
   "outputs": [],
   "source": [
    "# Calculate the average chip price\n",
    "segment_chip_price['Average_Chip_Price'] = segment_chip_price['Total_Sales'] / segment_chip_price['Total_Quantity']"
   ]
  },
  {
   "cell_type": "code",
   "execution_count": 94,
   "id": "bf728c6d-7c0a-436f-bfcc-23c91414f3a5",
   "metadata": {},
   "outputs": [
    {
     "name": "stdout",
     "output_type": "stream",
     "text": [
      "                 LIFESTAGE PREMIUM_CUSTOMER  Total_Sales  Total_Quantity  \\\n",
      "0   MIDAGE SINGLES/COUPLES           Budget     35514.80            9496   \n",
      "1   MIDAGE SINGLES/COUPLES       Mainstream     90803.85           22699   \n",
      "2   MIDAGE SINGLES/COUPLES          Premium     58432.65           15526   \n",
      "3             NEW FAMILIES           Budget     21928.45            5571   \n",
      "4             NEW FAMILIES       Mainstream     17013.90            4319   \n",
      "5             NEW FAMILIES          Premium     11491.10            2957   \n",
      "6           OLDER FAMILIES           Budget    168363.25           45065   \n",
      "7           OLDER FAMILIES       Mainstream    103445.55           27756   \n",
      "8           OLDER FAMILIES          Premium     81958.40           22171   \n",
      "9    OLDER SINGLES/COUPLES           Budget    136769.80           35220   \n",
      "10   OLDER SINGLES/COUPLES       Mainstream    133393.80           34997   \n",
      "11   OLDER SINGLES/COUPLES          Premium    132257.15           33984   \n",
      "12                RETIREES           Budget    113147.80           28764   \n",
      "13                RETIREES       Mainstream    155677.05           40518   \n",
      "14                RETIREES          Premium     97646.05           24884   \n",
      "15          YOUNG FAMILIES           Budget    139345.85           37111   \n",
      "16          YOUNG FAMILIES       Mainstream     92788.75           25044   \n",
      "17          YOUNG FAMILIES          Premium     84025.50           22406   \n",
      "18   YOUNG SINGLES/COUPLES           Budget     61141.60           16671   \n",
      "19   YOUNG SINGLES/COUPLES       Mainstream    157621.60           38632   \n",
      "20   YOUNG SINGLES/COUPLES          Premium     41642.10           11331   \n",
      "\n",
      "    Average_Chip_Price  \n",
      "0             3.739975  \n",
      "1             4.000346  \n",
      "2             3.763535  \n",
      "3             3.936178  \n",
      "4             3.939315  \n",
      "5             3.886067  \n",
      "6             3.736009  \n",
      "7             3.726962  \n",
      "8             3.696649  \n",
      "9             3.883299  \n",
      "10            3.811578  \n",
      "11            3.891748  \n",
      "12            3.933660  \n",
      "13            3.842170  \n",
      "14            3.924050  \n",
      "15            3.754840  \n",
      "16            3.705029  \n",
      "17            3.750134  \n",
      "18            3.667542  \n",
      "19            4.080079  \n",
      "20            3.675060  \n"
     ]
    }
   ],
   "source": [
    "print(segment_chip_price)"
   ]
  },
  {
   "cell_type": "code",
   "execution_count": 99,
   "id": "23c23c1b-5abb-40f2-88d1-30304c1698fc",
   "metadata": {},
   "outputs": [],
   "source": [
    "heatmap_data = segment_chip_price.pivot(index='LIFESTAGE', columns='PREMIUM_CUSTOMER', values='Average_Chip_Price')"
   ]
  },
  {
   "cell_type": "code",
   "execution_count": 100,
   "id": "40be6be6-9b93-477b-9de9-abf13ec8bddf",
   "metadata": {},
   "outputs": [
    {
     "data": {
      "image/png": "[encoded data removed]",
      "text/plain": [
       "<Figure size 1000x600 with 2 Axes>"
      ]
     },
     "metadata": {},
     "output_type": "display_data"
    }
   ],
   "source": [
    "plt.figure(figsize=(10, 6))\n",
    "sns.heatmap(heatmap_data, annot=True, fmt=\".2f\", cmap='YlGnBu', linewidths=0.5)\n",
    "\n",
    "plt.title('Average Chip Price by Customer Segment')\n",
    "plt.ylabel('Lifestage')\n",
    "plt.xlabel('Premium Behavior')\n",
    "plt.show()"
   ]
  },
  {
   "cell_type": "code",
   "execution_count": 103,
   "id": "4a2098b4-b592-4990-a0e3-eadb6ccbbb82",
   "metadata": {},
   "outputs": [
    {
     "name": "stdout",
     "output_type": "stream",
     "text": [
      "Requirement already satisfied: pandoc in c:\\users\\user\\anaconda3\\lib\\site-packages (2.4)\n",
      "Requirement already satisfied: plumbum in c:\\users\\user\\anaconda3\\lib\\site-packages (from pandoc) (1.9.0)\n",
      "Requirement already satisfied: ply in c:\\users\\user\\anaconda3\\lib\\site-packages (from pandoc) (3.11)\n",
      "Requirement already satisfied: pywin32 in c:\\users\\user\\appdata\\roaming\\python\\python312\\site-packages (from plumbum->pandoc) (308)\n"
     ]
    }
   ],
   "source": [
    "!pip install pandoc"
   ]
  },
  {
   "cell_type": "code",
   "execution_count": null,
   "id": "ab0a78b1-3180-43b7-bbb8-b19e51fb9619",
   "metadata": {},
   "outputs": [],
   "source": []
  }
 ],
 "metadata": {
  "kernelspec": {
   "display_name": "Python 3 (ipykernel)",
   "language": "python",
   "name": "python3"
  },
  "language_info": {
   "codemirror_mode": {
    "name": "ipython",
    "version": 3
   },
   "file_extension": ".py",
   "mimetype": "text/x-python",
   "name": "python",
   "nbconvert_exporter": "python",
   "pygments_lexer": "ipython3",
   "version": "3.12.8"
  }
 },
 "nbformat": 4,
 "nbformat_minor": 5
}
