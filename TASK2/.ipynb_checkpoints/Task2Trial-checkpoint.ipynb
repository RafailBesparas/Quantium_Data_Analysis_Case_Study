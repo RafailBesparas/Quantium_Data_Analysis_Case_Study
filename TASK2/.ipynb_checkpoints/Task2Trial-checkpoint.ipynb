{
 "cells": [
  {
   "cell_type": "code",
   "execution_count": 29,
   "id": "f1893916-ff58-452c-a71a-43164647076a",
   "metadata": {},
   "outputs": [],
   "source": [
    "import pandas as pd\n",
    "import numpy as np\n",
    "import matplotlib.pyplot as plt\n",
    "import seaborn as sns\n",
    "import re"
   ]
  },
  {
   "cell_type": "code",
   "execution_count": 30,
   "id": "7b30742d-4792-49bb-9966-7a5b81f81fb6",
   "metadata": {},
   "outputs": [],
   "source": [
    "df = pd.read_csv(\"QVI_data.csv\")"
   ]
  },
  {
   "cell_type": "code",
   "execution_count": 31,
   "id": "516e531b-4495-46d7-8303-34e04297915f",
   "metadata": {},
   "outputs": [
    {
     "data": {
      "text/html": [
       "<div>\n",
       "<style scoped>\n",
       "    .dataframe tbody tr th:only-of-type {\n",
       "        vertical-align: middle;\n",
       "    }\n",
       "\n",
       "    .dataframe tbody tr th {\n",
       "        vertical-align: top;\n",
       "    }\n",
       "\n",
       "    .dataframe thead th {\n",
       "        text-align: right;\n",
       "    }\n",
       "</style>\n",
       "<table border=\"1\" class=\"dataframe\">\n",
       "  <thead>\n",
       "    <tr style=\"text-align: right;\">\n",
       "      <th></th>\n",
       "      <th>LYLTY_CARD_NBR</th>\n",
       "      <th>DATE</th>\n",
       "      <th>STORE_NBR</th>\n",
       "      <th>TXN_ID</th>\n",
       "      <th>PROD_NBR</th>\n",
       "      <th>PROD_NAME</th>\n",
       "      <th>PROD_QTY</th>\n",
       "      <th>TOT_SALES</th>\n",
       "      <th>PACK_SIZE</th>\n",
       "      <th>BRAND</th>\n",
       "      <th>LIFESTAGE</th>\n",
       "      <th>PREMIUM_CUSTOMER</th>\n",
       "    </tr>\n",
       "  </thead>\n",
       "  <tbody>\n",
       "    <tr>\n",
       "      <th>0</th>\n",
       "      <td>1000</td>\n",
       "      <td>2018-10-17</td>\n",
       "      <td>1</td>\n",
       "      <td>1</td>\n",
       "      <td>5</td>\n",
       "      <td>Natural Chip        Compny SeaSalt175g</td>\n",
       "      <td>2</td>\n",
       "      <td>6.0</td>\n",
       "      <td>175</td>\n",
       "      <td>NATURAL</td>\n",
       "      <td>YOUNG SINGLES/COUPLES</td>\n",
       "      <td>Premium</td>\n",
       "    </tr>\n",
       "    <tr>\n",
       "      <th>1</th>\n",
       "      <td>1002</td>\n",
       "      <td>2018-09-16</td>\n",
       "      <td>1</td>\n",
       "      <td>2</td>\n",
       "      <td>58</td>\n",
       "      <td>Red Rock Deli Chikn&amp;Garlic Aioli 150g</td>\n",
       "      <td>1</td>\n",
       "      <td>2.7</td>\n",
       "      <td>150</td>\n",
       "      <td>RRD</td>\n",
       "      <td>YOUNG SINGLES/COUPLES</td>\n",
       "      <td>Mainstream</td>\n",
       "    </tr>\n",
       "  </tbody>\n",
       "</table>\n",
       "</div>"
      ],
      "text/plain": [
       "   LYLTY_CARD_NBR        DATE  STORE_NBR  TXN_ID  PROD_NBR  \\\n",
       "0            1000  2018-10-17          1       1         5   \n",
       "1            1002  2018-09-16          1       2        58   \n",
       "\n",
       "                                PROD_NAME  PROD_QTY  TOT_SALES  PACK_SIZE  \\\n",
       "0  Natural Chip        Compny SeaSalt175g         2        6.0        175   \n",
       "1   Red Rock Deli Chikn&Garlic Aioli 150g         1        2.7        150   \n",
       "\n",
       "     BRAND              LIFESTAGE PREMIUM_CUSTOMER  \n",
       "0  NATURAL  YOUNG SINGLES/COUPLES          Premium  \n",
       "1      RRD  YOUNG SINGLES/COUPLES       Mainstream  "
      ]
     },
     "execution_count": 31,
     "metadata": {},
     "output_type": "execute_result"
    }
   ],
   "source": [
    "df.head(2)"
   ]
  },
  {
   "cell_type": "code",
   "execution_count": 68,
   "id": "c6f9184e-d91c-4d92-9c44-bbfc09a42d08",
   "metadata": {},
   "outputs": [
    {
     "name": "stdout",
     "output_type": "stream",
     "text": [
      "<class 'pandas.core.frame.DataFrame'>\n",
      "RangeIndex: 264834 entries, 0 to 264833\n",
      "Data columns (total 12 columns):\n",
      " #   Column            Non-Null Count   Dtype         \n",
      "---  ------            --------------   -----         \n",
      " 0   LYLTY_CARD_NBR    264834 non-null  int64         \n",
      " 1   DATE              264834 non-null  datetime64[ns]\n",
      " 2   STORE_NBR         264834 non-null  int64         \n",
      " 3   TXN_ID            264834 non-null  int64         \n",
      " 4   PROD_NBR          264834 non-null  int64         \n",
      " 5   PROD_NAME         264834 non-null  object        \n",
      " 6   PROD_QTY          264834 non-null  int64         \n",
      " 7   TOT_SALES         264834 non-null  float64       \n",
      " 8   PACK_SIZE         264834 non-null  int64         \n",
      " 9   BRAND             264834 non-null  object        \n",
      " 10  LIFESTAGE         264834 non-null  object        \n",
      " 11  PREMIUM_CUSTOMER  264834 non-null  object        \n",
      "dtypes: datetime64[ns](1), float64(1), int64(6), object(4)\n",
      "memory usage: 24.2+ MB\n"
     ]
    }
   ],
   "source": [
    "df.info()"
   ]
  },
  {
   "cell_type": "markdown",
   "id": "dedfee5d-e2e3-47b4-887e-35f27eb31a8f",
   "metadata": {},
   "source": [
    "# Find the monthly sales for all the shops"
   ]
  },
  {
   "cell_type": "code",
   "execution_count": 69,
   "id": "0d33d8b8-371a-4de9-a509-534a545cd954",
   "metadata": {},
   "outputs": [],
   "source": [
    "df['YEAR_MONTH'] = df['DATE'].dt.to_period('M')"
   ]
  },
  {
   "cell_type": "code",
   "execution_count": 70,
   "id": "36599669-e24e-48b3-b822-b33bd3e4b10b",
   "metadata": {},
   "outputs": [],
   "source": [
    "# Group by store number and year-month, then sum the total sales\n",
    "monthly_sales = df.groupby(['STORE_NBR', 'YEAR_MONTH'])['TOT_SALES'].sum().reset_index()"
   ]
  },
  {
   "cell_type": "code",
   "execution_count": 71,
   "id": "f64b6299-0df4-4f0e-a8a9-1931487aa5bf",
   "metadata": {},
   "outputs": [
    {
     "name": "stdout",
     "output_type": "stream",
     "text": [
      "      STORE_NBR YEAR_MONTH  TOT_SALES\n",
      "0             1    2018-07      206.9\n",
      "1             1    2018-08      176.1\n",
      "2             1    2018-09      278.8\n",
      "3             1    2018-10      188.1\n",
      "4             1    2018-11      192.6\n",
      "...         ...        ...        ...\n",
      "3164        272    2019-02      395.5\n",
      "3165        272    2019-03      442.3\n",
      "3166        272    2019-04      445.1\n",
      "3167        272    2019-05      314.6\n",
      "3168        272    2019-06      312.1\n",
      "\n",
      "[3169 rows x 3 columns]\n"
     ]
    }
   ],
   "source": [
    "print(monthly_sales)"
   ]
  },
  {
   "cell_type": "markdown",
   "id": "5316ad6b-07f2-411c-8978-fee187d54135",
   "metadata": {},
   "source": [
    "# Find the monthly number of customers "
   ]
  },
  {
   "cell_type": "code",
   "execution_count": 74,
   "id": "4c59b25d-ca9e-4b7a-8508-972e15f6054d",
   "metadata": {},
   "outputs": [],
   "source": [
    "# Group by store number and year-month, then count the unique loyalty card numbers\n",
    "monthly_customers = df.groupby(['STORE_NBR', 'YEAR_MONTH'])['LYLTY_CARD_NBR'].nunique().reset_index()"
   ]
  },
  {
   "cell_type": "code",
   "execution_count": 75,
   "id": "2ef66f45-2f68-496d-9009-0398c6b5b6a5",
   "metadata": {},
   "outputs": [],
   "source": [
    "# Rename the column to 'NUM_CUSTOMERS' for clarity\n",
    "monthly_customers.rename(columns={'LYLTY_CARD_NBR': 'NUM_CUSTOMERS'}, inplace=True)"
   ]
  },
  {
   "cell_type": "code",
   "execution_count": 76,
   "id": "a6adc0cf-0b62-45b0-bbd9-bf10b6c7648b",
   "metadata": {},
   "outputs": [
    {
     "name": "stdout",
     "output_type": "stream",
     "text": [
      "      STORE_NBR YEAR_MONTH  NUM_CUSTOMERS\n",
      "0             1    2018-07             49\n",
      "1             1    2018-08             42\n",
      "2             1    2018-09             59\n",
      "3             1    2018-10             44\n",
      "4             1    2018-11             46\n",
      "...         ...        ...            ...\n",
      "3164        272    2019-02             45\n",
      "3165        272    2019-03             50\n",
      "3166        272    2019-04             54\n",
      "3167        272    2019-05             34\n",
      "3168        272    2019-06             34\n",
      "\n",
      "[3169 rows x 3 columns]\n"
     ]
    }
   ],
   "source": [
    "# Display the result\n",
    "print(monthly_customers)"
   ]
  },
  {
   "cell_type": "markdown",
   "id": "c1493777-53c6-48ed-91a0-a333dc80429f",
   "metadata": {},
   "source": [
    "# Find the Monthly number of transactions per customer"
   ]
  },
  {
   "cell_type": "code",
   "execution_count": 77,
   "id": "13107658-db38-4308-a16a-f144c77c22fe",
   "metadata": {},
   "outputs": [],
   "source": [
    "# Group by loyalty card number and year-month, then count the number of transactions per customer\n",
    "monthly_transactions_per_customer = df.groupby(['LYLTY_CARD_NBR', 'YEAR_MONTH'])['TXN_ID'].nunique().reset_index()"
   ]
  },
  {
   "cell_type": "code",
   "execution_count": 78,
   "id": "a187b487-8dda-4167-8e1b-d98c4f713ce4",
   "metadata": {},
   "outputs": [],
   "source": [
    "# Rename the column to 'NUM_TRANSACTIONS' for clarity\n",
    "monthly_transactions_per_customer.rename(columns={'TXN_ID': 'NUM_TRANSACTIONS'}, inplace=True)"
   ]
  },
  {
   "cell_type": "code",
   "execution_count": 79,
   "id": "773b7798-c465-4562-9aef-c77f0dfc5ae0",
   "metadata": {},
   "outputs": [
    {
     "name": "stdout",
     "output_type": "stream",
     "text": [
      "        LYLTY_CARD_NBR YEAR_MONTH  NUM_TRANSACTIONS\n",
      "0                 1000    2018-10                 1\n",
      "1                 1002    2018-09                 1\n",
      "2                 1003    2019-03                 2\n",
      "3                 1004    2018-11                 1\n",
      "4                 1005    2018-12                 1\n",
      "...                ...        ...               ...\n",
      "221274         2370651    2018-08                 1\n",
      "221275         2370701    2018-12                 1\n",
      "221276         2370751    2018-10                 1\n",
      "221277         2370961    2018-10                 2\n",
      "221278         2373711    2018-12                 1\n",
      "\n",
      "[221279 rows x 3 columns]\n"
     ]
    }
   ],
   "source": [
    "# Display the result\n",
    "print(monthly_transactions_per_customer)"
   ]
  },
  {
   "cell_type": "markdown",
   "id": "14a1a549-f968-426e-af44-b21313b1f326",
   "metadata": {},
   "source": [
    "# Closest Stores based on the sales"
   ]
  },
  {
   "cell_type": "code",
   "execution_count": 87,
   "id": "a6aabe46-1a6f-4635-b5a3-9db46ff55acf",
   "metadata": {},
   "outputs": [],
   "source": [
    "import numpy as np\n",
    "from sklearn.metrics.pairwise import euclidean_distances"
   ]
  },
  {
   "cell_type": "code",
   "execution_count": 88,
   "id": "79cb2ecf-25ec-48cd-950f-baeb5d6b1b13",
   "metadata": {},
   "outputs": [],
   "source": [
    "# Step 2: Pivot the data to have stores as columns and months as rows\n",
    "monthly_sales_pivot = monthly_sales.pivot(index='YEAR_MONTH', columns='STORE_NBR', values='TOT_SALES').fillna(0)"
   ]
  },
  {
   "cell_type": "code",
   "execution_count": 89,
   "id": "5a2e17f4-8026-4447-8b5c-e60cad4acfc2",
   "metadata": {},
   "outputs": [],
   "source": [
    "def find_closest_stores(target_store, store_pivot, n_closest=3):\n",
    "    target_sales = store_pivot[target_store].values.reshape(1, -1)  # Target store sales data\n",
    "    other_stores = store_pivot.drop(columns=[target_store])  # Drop target store data\n",
    "    \n",
    "    # Compute Euclidean distances between the target store and other stores\n",
    "    distances = euclidean_distances(target_sales, other_stores.T)  # Transpose to compare target to other stores\n",
    "    \n",
    "    # Get the indices of the closest stores\n",
    "    closest_stores_idx = np.argsort(distances[0])[:n_closest]\n",
    "    \n",
    "    # Get the store numbers for the closest stores\n",
    "    closest_stores = other_stores.columns[closest_stores_idx].tolist()\n",
    "    \n",
    "    return closest_stores"
   ]
  },
  {
   "cell_type": "code",
   "execution_count": 90,
   "id": "1c644c55-83d1-41e8-a53b-8cc160ecd213",
   "metadata": {},
   "outputs": [],
   "source": [
    "# Step 4: Find 3 closest stores for stores 77, 86, and 88\n",
    "closest_stores_77 = find_closest_stores(77, monthly_sales_pivot)\n",
    "closest_stores_86 = find_closest_stores(86, monthly_sales_pivot)\n",
    "closest_stores_88 = find_closest_stores(88, monthly_sales_pivot)"
   ]
  },
  {
   "cell_type": "code",
   "execution_count": 91,
   "id": "36363680-25b1-471c-9155-8060044cdae6",
   "metadata": {},
   "outputs": [
    {
     "name": "stdout",
     "output_type": "stream",
     "text": [
      "3 closest stores to store 77: [46, 185, 188]\n",
      "3 closest stores to store 86: [229, 109, 155]\n",
      "3 closest stores to store 88: [40, 165, 237]\n"
     ]
    }
   ],
   "source": [
    "# Display the results\n",
    "print(f\"3 closest stores to store 77: {closest_stores_77}\")\n",
    "print(f\"3 closest stores to store 86: {closest_stores_86}\")\n",
    "print(f\"3 closest stores to store 88: {closest_stores_88}\")"
   ]
  },
  {
   "cell_type": "markdown",
   "id": "02678905-363a-4b2a-8953-e01343557e84",
   "metadata": {},
   "source": [
    "# Find how many bags of chips each customer has bought per month"
   ]
  },
  {
   "cell_type": "code",
   "execution_count": 92,
   "id": "4869a559-8e25-4ef7-88ed-dd32d08feaa1",
   "metadata": {},
   "outputs": [],
   "source": [
    "#Group by customer and month, summing the total quantity bought\n",
    "monthly_purchase_per_customer = df.groupby(['LYLTY_CARD_NBR', 'YEAR_MONTH'])['PROD_QTY'].sum().reset_index()"
   ]
  },
  {
   "cell_type": "code",
   "execution_count": 93,
   "id": "bfeb108e-7846-4ba6-ba8f-77499c91f50f",
   "metadata": {},
   "outputs": [
    {
     "name": "stdout",
     "output_type": "stream",
     "text": [
      "        LYLTY_CARD_NBR YEAR_MONTH  PROD_QTY\n",
      "0                 1000    2018-10         2\n",
      "1                 1002    2018-09         1\n",
      "2                 1003    2019-03         2\n",
      "3                 1004    2018-11         1\n",
      "4                 1005    2018-12         1\n",
      "...                ...        ...       ...\n",
      "221274         2370651    2018-08         2\n",
      "221275         2370701    2018-12         2\n",
      "221276         2370751    2018-10         2\n",
      "221277         2370961    2018-10         4\n",
      "221278         2373711    2018-12         2\n",
      "\n",
      "[221279 rows x 3 columns]\n"
     ]
    }
   ],
   "source": [
    "print(monthly_purchase_per_customer)"
   ]
  },
  {
   "cell_type": "code",
   "execution_count": null,
   "id": "47b809ab-d16f-4f10-9aa2-1823ccff1fc5",
   "metadata": {},
   "outputs": [],
   "source": []
  }
 ],
 "metadata": {
  "kernelspec": {
   "display_name": "Python 3 (ipykernel)",
   "language": "python",
   "name": "python3"
  },
  "language_info": {
   "codemirror_mode": {
    "name": "ipython",
    "version": 3
   },
   "file_extension": ".py",
   "mimetype": "text/x-python",
   "name": "python",
   "nbconvert_exporter": "python",
   "pygments_lexer": "ipython3",
   "version": "3.12.8"
  }
 },
 "nbformat": 4,
 "nbformat_minor": 5
}
