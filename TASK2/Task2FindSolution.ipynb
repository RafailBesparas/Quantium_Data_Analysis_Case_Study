{
 "cells": [
  {
   "cell_type": "code",
   "execution_count": 1,
   "id": "e69e037c-7b09-453b-b4ae-3038f5243151",
   "metadata": {},
   "outputs": [],
   "source": [
    "import pandas as pd\n",
    "import numpy as np\n",
    "import matplotlib.pyplot as plt\n",
    "import seaborn as sns\n",
    "import re\n",
    "from scipy.stats import pearsonr, ttest_ind"
   ]
  },
  {
   "cell_type": "code",
   "execution_count": 2,
   "id": "47396984-7171-4db7-ac26-54a30000028d",
   "metadata": {},
   "outputs": [],
   "source": [
    "df = pd.read_csv(\"QVI_data.csv\")"
   ]
  },
  {
   "cell_type": "code",
   "execution_count": 3,
   "id": "9c060e89-bb8e-49eb-a69f-0baa9175e833",
   "metadata": {},
   "outputs": [
    {
     "data": {
      "text/html": [
       "<div>\n",
       "<style scoped>\n",
       "    .dataframe tbody tr th:only-of-type {\n",
       "        vertical-align: middle;\n",
       "    }\n",
       "\n",
       "    .dataframe tbody tr th {\n",
       "        vertical-align: top;\n",
       "    }\n",
       "\n",
       "    .dataframe thead th {\n",
       "        text-align: right;\n",
       "    }\n",
       "</style>\n",
       "<table border=\"1\" class=\"dataframe\">\n",
       "  <thead>\n",
       "    <tr style=\"text-align: right;\">\n",
       "      <th></th>\n",
       "      <th>LYLTY_CARD_NBR</th>\n",
       "      <th>DATE</th>\n",
       "      <th>STORE_NBR</th>\n",
       "      <th>TXN_ID</th>\n",
       "      <th>PROD_NBR</th>\n",
       "      <th>PROD_NAME</th>\n",
       "      <th>PROD_QTY</th>\n",
       "      <th>TOT_SALES</th>\n",
       "      <th>PACK_SIZE</th>\n",
       "      <th>BRAND</th>\n",
       "      <th>LIFESTAGE</th>\n",
       "      <th>PREMIUM_CUSTOMER</th>\n",
       "    </tr>\n",
       "  </thead>\n",
       "  <tbody>\n",
       "    <tr>\n",
       "      <th>0</th>\n",
       "      <td>1000</td>\n",
       "      <td>2018-10-17</td>\n",
       "      <td>1</td>\n",
       "      <td>1</td>\n",
       "      <td>5</td>\n",
       "      <td>Natural Chip        Compny SeaSalt175g</td>\n",
       "      <td>2</td>\n",
       "      <td>6.0</td>\n",
       "      <td>175</td>\n",
       "      <td>NATURAL</td>\n",
       "      <td>YOUNG SINGLES/COUPLES</td>\n",
       "      <td>Premium</td>\n",
       "    </tr>\n",
       "    <tr>\n",
       "      <th>1</th>\n",
       "      <td>1002</td>\n",
       "      <td>2018-09-16</td>\n",
       "      <td>1</td>\n",
       "      <td>2</td>\n",
       "      <td>58</td>\n",
       "      <td>Red Rock Deli Chikn&amp;Garlic Aioli 150g</td>\n",
       "      <td>1</td>\n",
       "      <td>2.7</td>\n",
       "      <td>150</td>\n",
       "      <td>RRD</td>\n",
       "      <td>YOUNG SINGLES/COUPLES</td>\n",
       "      <td>Mainstream</td>\n",
       "    </tr>\n",
       "  </tbody>\n",
       "</table>\n",
       "</div>"
      ],
      "text/plain": [
       "   LYLTY_CARD_NBR        DATE  STORE_NBR  TXN_ID  PROD_NBR  \\\n",
       "0            1000  2018-10-17          1       1         5   \n",
       "1            1002  2018-09-16          1       2        58   \n",
       "\n",
       "                                PROD_NAME  PROD_QTY  TOT_SALES  PACK_SIZE  \\\n",
       "0  Natural Chip        Compny SeaSalt175g         2        6.0        175   \n",
       "1   Red Rock Deli Chikn&Garlic Aioli 150g         1        2.7        150   \n",
       "\n",
       "     BRAND              LIFESTAGE PREMIUM_CUSTOMER  \n",
       "0  NATURAL  YOUNG SINGLES/COUPLES          Premium  \n",
       "1      RRD  YOUNG SINGLES/COUPLES       Mainstream  "
      ]
     },
     "execution_count": 3,
     "metadata": {},
     "output_type": "execute_result"
    }
   ],
   "source": [
    "df.head(2)"
   ]
  },
  {
   "cell_type": "code",
   "execution_count": 4,
   "id": "f4d9cec6-c2dc-478d-8787-22b0edd37cbe",
   "metadata": {},
   "outputs": [],
   "source": [
    "# Convert DATE column to datetime\n",
    "df['DATE'] = pd.to_datetime(df['DATE'])"
   ]
  },
  {
   "cell_type": "code",
   "execution_count": 5,
   "id": "ba83e7a4-80a9-45b2-801c-597fa35e28a5",
   "metadata": {},
   "outputs": [
    {
     "name": "stdout",
     "output_type": "stream",
     "text": [
      "<class 'pandas.core.frame.DataFrame'>\n",
      "RangeIndex: 264834 entries, 0 to 264833\n",
      "Data columns (total 12 columns):\n",
      " #   Column            Non-Null Count   Dtype         \n",
      "---  ------            --------------   -----         \n",
      " 0   LYLTY_CARD_NBR    264834 non-null  int64         \n",
      " 1   DATE              264834 non-null  datetime64[ns]\n",
      " 2   STORE_NBR         264834 non-null  int64         \n",
      " 3   TXN_ID            264834 non-null  int64         \n",
      " 4   PROD_NBR          264834 non-null  int64         \n",
      " 5   PROD_NAME         264834 non-null  object        \n",
      " 6   PROD_QTY          264834 non-null  int64         \n",
      " 7   TOT_SALES         264834 non-null  float64       \n",
      " 8   PACK_SIZE         264834 non-null  int64         \n",
      " 9   BRAND             264834 non-null  object        \n",
      " 10  LIFESTAGE         264834 non-null  object        \n",
      " 11  PREMIUM_CUSTOMER  264834 non-null  object        \n",
      "dtypes: datetime64[ns](1), float64(1), int64(6), object(4)\n",
      "memory usage: 24.2+ MB\n"
     ]
    }
   ],
   "source": [
    "df.info()"
   ]
  },
  {
   "cell_type": "code",
   "execution_count": 6,
   "id": "37f38a4a-a6b1-4644-9271-36ed51e4cf84",
   "metadata": {},
   "outputs": [],
   "source": [
    "#A function to calculate the monthly metrics\n",
    "def calculate_monthly_metrics(data):\n",
    "    return (\n",
    "        data.groupby(['STORE_NBR', pd.Grouper(key='DATE', freq='ME')])\n",
    "        .agg(\n",
    "            total_sales=('TOT_SALES', 'sum'),\n",
    "            total_customers=('LYLTY_CARD_NBR', 'nunique'),\n",
    "            avg_transactions=('PROD_QTY', lambda x: x.sum() / x.nunique())\n",
    "        )\n",
    "        .reset_index()\n",
    "    )"
   ]
  },
  {
   "cell_type": "code",
   "execution_count": 7,
   "id": "7e74d278-000a-4b99-a868-ff2980a20b68",
   "metadata": {},
   "outputs": [
    {
     "name": "stdout",
     "output_type": "stream",
     "text": [
      "      STORE_NBR       DATE  total_sales  total_customers  avg_transactions\n",
      "0             1 2018-07-31        206.9               49              31.0\n",
      "1             1 2018-08-31        176.1               42              18.0\n",
      "2             1 2018-09-30        278.8               59              37.5\n",
      "3             1 2018-10-31        188.1               44              29.0\n",
      "4             1 2018-11-30        192.6               46              28.5\n",
      "...         ...        ...          ...              ...               ...\n",
      "3164        272 2019-02-28        395.5               45              45.5\n",
      "3165        272 2019-03-31        442.3               50              50.5\n",
      "3166        272 2019-04-30        445.1               54              52.5\n",
      "3167        272 2019-05-31        314.6               34              35.5\n",
      "3168        272 2019-06-30        312.1               34              35.0\n",
      "\n",
      "[3169 rows x 5 columns]\n"
     ]
    }
   ],
   "source": [
    "# Calculate monthly metrics\n",
    "monthly_metrics = calculate_monthly_metrics(df)\n",
    "print(monthly_metrics)"
   ]
  },
  {
   "cell_type": "code",
   "execution_count": 8,
   "id": "58038dfa-af02-470a-a5b3-744f1860f3c7",
   "metadata": {},
   "outputs": [],
   "source": [
    "# Function to calculate similarity\n",
    "def calculate_similarity(trial_store, control_stores, metric='pearson'):\n",
    "    similarities = []\n",
    "    for control_store in control_stores:\n",
    "        trial_data = trial_store[['DATE', 'total_sales']].set_index('DATE')\n",
    "        control_data = control_store[['DATE', 'total_sales']].set_index('DATE')\n",
    "        \n",
    "        # Match dates\n",
    "        merged_data = trial_data.join(control_data, lsuffix='_trial', rsuffix='_control').dropna()\n",
    "        \n",
    "        # Pearson correlation\n",
    "        if metric == 'pearson':\n",
    "            corr, _ = pearsonr(merged_data['total_sales_trial'], merged_data['total_sales_control'])\n",
    "            similarities.append((control_store['STORE_NBR'].iloc[0], corr))\n",
    "        elif metric == 'magnitude':\n",
    "            distance = np.abs(\n",
    "                merged_data['total_sales_trial'] - merged_data['total_sales_control']\n",
    "            ).mean()\n",
    "            similarities.append((control_store['STORE_NBR'].iloc[0], 1 - distance))\n",
    "    \n",
    "    # Return the best match\n",
    "    return max(similarities, key=lambda x: x[1])\n"
   ]
  },
  {
   "cell_type": "code",
   "execution_count": 9,
   "id": "fb1ec83b-6477-4616-94f0-d54dcac15f85",
   "metadata": {},
   "outputs": [],
   "source": [
    "# Separate trial and control stores\n",
    "trial_stores = [77, 86, 88]\n",
    "control_stores = monthly_metrics[~monthly_metrics['STORE_NBR'].isin(trial_stores)]"
   ]
  },
  {
   "cell_type": "code",
   "execution_count": 13,
   "id": "bb319cf1-8b7b-4937-8425-eef4918b75c3",
   "metadata": {},
   "outputs": [
    {
     "name": "stdout",
     "output_type": "stream",
     "text": [
      "Processing Trial Store 77...\n",
      "Insufficient data for Control Store 76. Skipping.\n",
      "Insufficient data for Control Store 85. Skipping.\n",
      "Insufficient data for Control Store 92. Skipping.\n"
     ]
    },
    {
     "name": "stderr",
     "output_type": "stream",
     "text": [
      "C:\\Users\\user\\AppData\\Local\\Temp\\ipykernel_17360\\4237740904.py:37: ConstantInputWarning: An input array is constant; the correlation coefficient is not defined.\n",
      "  corr, _ = pearsonr(merged_data['total_sales_trial'], merged_data['total_sales_control'])\n",
      "C:\\Users\\user\\AppData\\Local\\Temp\\ipykernel_17360\\4237740904.py:37: ConstantInputWarning: An input array is constant; the correlation coefficient is not defined.\n",
      "  corr, _ = pearsonr(merged_data['total_sales_trial'], merged_data['total_sales_control'])\n"
     ]
    },
    {
     "name": "stdout",
     "output_type": "stream",
     "text": [
      "Processing Trial Store 86...\n",
      "Insufficient data for Control Store 76. Skipping.\n",
      "Insufficient data for Control Store 85. Skipping.\n",
      "Insufficient data for Control Store 92. Skipping.\n"
     ]
    },
    {
     "name": "stderr",
     "output_type": "stream",
     "text": [
      "C:\\Users\\user\\AppData\\Local\\Temp\\ipykernel_17360\\4237740904.py:37: ConstantInputWarning: An input array is constant; the correlation coefficient is not defined.\n",
      "  corr, _ = pearsonr(merged_data['total_sales_trial'], merged_data['total_sales_control'])\n",
      "C:\\Users\\user\\AppData\\Local\\Temp\\ipykernel_17360\\4237740904.py:37: ConstantInputWarning: An input array is constant; the correlation coefficient is not defined.\n",
      "  corr, _ = pearsonr(merged_data['total_sales_trial'], merged_data['total_sales_control'])\n"
     ]
    },
    {
     "name": "stdout",
     "output_type": "stream",
     "text": [
      "Processing Trial Store 88...\n",
      "Insufficient data for Control Store 76. Skipping.\n",
      "Insufficient data for Control Store 85. Skipping.\n",
      "Insufficient data for Control Store 92. Skipping.\n"
     ]
    },
    {
     "name": "stderr",
     "output_type": "stream",
     "text": [
      "C:\\Users\\user\\AppData\\Local\\Temp\\ipykernel_17360\\4237740904.py:37: ConstantInputWarning: An input array is constant; the correlation coefficient is not defined.\n",
      "  corr, _ = pearsonr(merged_data['total_sales_trial'], merged_data['total_sales_control'])\n"
     ]
    },
    {
     "name": "stdout",
     "output_type": "stream",
     "text": [
      "Best control stores for each trial store: {77: (11, 1.0), 86: (31, 1.0), 88: (206, 1.0)}\n"
     ]
    },
    {
     "name": "stderr",
     "output_type": "stream",
     "text": [
      "C:\\Users\\user\\AppData\\Local\\Temp\\ipykernel_17360\\4237740904.py:37: ConstantInputWarning: An input array is constant; the correlation coefficient is not defined.\n",
      "  corr, _ = pearsonr(merged_data['total_sales_trial'], merged_data['total_sales_control'])\n"
     ]
    }
   ],
   "source": [
    "from scipy.stats import pearsonr\n",
    "\n",
    "best_control_stores = {}\n",
    "\n",
    "# Loop through each trial store\n",
    "for trial_store_num in trial_stores:\n",
    "    trial_store_data = monthly_metrics[monthly_metrics['STORE_NBR'] == trial_store_num]\n",
    "    print(f\"Processing Trial Store {trial_store_num}...\")\n",
    "    \n",
    "    # Check if trial_store_data has enough data\n",
    "    if trial_store_data.empty:\n",
    "        print(f\"No data for Trial Store {trial_store_num}. Skipping.\")\n",
    "        continue\n",
    "\n",
    "    # Initialize a list to store similarities for the current trial store\n",
    "    similarities = []\n",
    "\n",
    "    # Iterate over each potential control store\n",
    "    for store_num in control_stores['STORE_NBR'].unique():\n",
    "        control_data = control_stores[control_stores['STORE_NBR'] == store_num]\n",
    "\n",
    "        # Merge trial and control data on the date column\n",
    "        merged_data = trial_store_data.join(\n",
    "            control_data.set_index('DATE'), \n",
    "            on='DATE', \n",
    "            lsuffix='_trial', \n",
    "            rsuffix='_control'\n",
    "        ).dropna()\n",
    "\n",
    "        # Check if there are at least 2 rows for Pearson correlation\n",
    "        if len(merged_data) < 2:\n",
    "            print(f\"Insufficient data for Control Store {store_num}. Skipping.\")\n",
    "            continue\n",
    "\n",
    "        # Calculate similarity using Pearson correlation\n",
    "        try:\n",
    "            corr, _ = pearsonr(merged_data['total_sales_trial'], merged_data['total_sales_control'])\n",
    "            similarities.append((store_num, corr))\n",
    "        except Exception as e:\n",
    "            print(f\"Error calculating similarity for Control Store {store_num}: {e}\")\n",
    "\n",
    "    # Select the control store with the highest similarity\n",
    "    if similarities:\n",
    "        best_control_store = max(similarities, key=lambda x: x[1])\n",
    "        best_control_stores[trial_store_num] = best_control_store\n",
    "    else:\n",
    "        print(f\"No suitable control stores found for Trial Store {trial_store_num}.\")\n",
    "\n",
    "print(\"Best control stores for each trial store:\", best_control_stores)\n"
   ]
  },
  {
   "cell_type": "code",
   "execution_count": 10,
   "id": "248e84b2-e4cf-4a9a-9da0-adc7a989929c",
   "metadata": {},
   "outputs": [],
   "source": [
    "# Function to compare trial and control store performance\n",
    "def compare_trial_control(trial_data, control_data, trial_period):\n",
    "    trial = trial_data[trial_data['DATE'].between(trial_period[0], trial_period[1])]\n",
    "    control = control_data[control_data['DATE'].between(trial_period[0], trial_period[1])]\n",
    "    \n",
    "    # Total sales\n",
    "    t_stat, p_value = ttest_ind(trial['total_sales'], control['total_sales'], equal_var=False)\n",
    "    \n",
    "    # Breakdown\n",
    "    customer_change = trial['total_customers'].sum() - control['total_customers'].sum()\n",
    "    transaction_change = trial['avg_transactions'].mean() - control['avg_transactions'].mean()\n",
    "    \n",
    "    return {\n",
    "        'p_value': p_value,\n",
    "        'customer_change': customer_change,\n",
    "        'transaction_change': transaction_change,\n",
    "    }"
   ]
  },
  {
   "cell_type": "code",
   "execution_count": 15,
   "id": "1a5871f8-a9ea-42b6-bf54-6e7a87fe33d1",
   "metadata": {},
   "outputs": [
    {
     "name": "stdout",
     "output_type": "stream",
     "text": [
      "Insufficient data for Trial Store 77 or Control Store 11. Skipping.\n",
      "Insufficient data for Trial Store 86 or Control Store 31. Skipping.\n",
      "Insufficient data for Trial Store 88 or Control Store 206. Skipping.\n"
     ]
    }
   ],
   "source": [
    "# Define the trial period\n",
    "trial_period = ('2019-01-01', '2019-03-31')\n",
    "\n",
    "# Compare each trial and control store\n",
    "for trial_store_num, control_store_info in best_control_stores.items():\n",
    "    control_store_num = control_store_info[0]\n",
    "    \n",
    "    # Get trial and control data\n",
    "    trial_store_data = monthly_metrics[\n",
    "        (monthly_metrics['STORE_NBR'] == trial_store_num) &\n",
    "        (monthly_metrics['DATE'] >= trial_period[0]) &\n",
    "        (monthly_metrics['DATE'] <= trial_period[1])\n",
    "    ]\n",
    "    control_store_data = monthly_metrics[\n",
    "        (monthly_metrics['STORE_NBR'] == control_store_num) &\n",
    "        (monthly_metrics['DATE'] >= trial_period[0]) &\n",
    "        (monthly_metrics['DATE'] <= trial_period[1])\n",
    "    ]\n",
    "    \n",
    "    # Check if data is sufficient\n",
    "    if trial_store_data.empty or control_store_data.empty:\n",
    "        print(f\"Insufficient data for Trial Store {trial_store_num} or Control Store {control_store_num}. Skipping.\")\n",
    "        continue\n",
    "\n",
    "    # Compare performance\n",
    "    results = compare_trial_control(trial_store_data, control_store_data, trial_period)\n",
    "\n",
    "    # Debugging outputs\n",
    "    print(f\"Trial Store {trial_store_num} Data:\\n\", trial_store_data)\n",
    "    print(f\"Control Store {control_store_num} Data:\\n\", control_store_data)\n",
    "    print(f\"Results for Trial Store {trial_store_num} vs Control Store {control_store_num}:\")\n",
    "    print(results)\n"
   ]
  },
  {
   "cell_type": "code",
   "execution_count": 16,
   "id": "fae3ac5e-e93e-4e0f-9cf0-7a7733f893bb",
   "metadata": {},
   "outputs": [],
   "source": [
    "def alternative_metrics(trial_data, control_data, trial_period):\n",
    "    \"\"\"\n",
    "    Compute alternative metrics to compare trial and control stores.\n",
    "\n",
    "    Args:\n",
    "        trial_data (pd.DataFrame): Data for the trial store.\n",
    "        control_data (pd.DataFrame): Data for the control store.\n",
    "        trial_period (tuple): Start and end dates of the trial period (YYYY-MM-DD).\n",
    "\n",
    "    Returns:\n",
    "        dict: Metrics comparing trial and control stores.\n",
    "    \"\"\"\n",
    "    metrics = {}\n",
    "    \n",
    "    # Filter data for trial period\n",
    "    trial_period_data = trial_data[\n",
    "        (trial_data['DATE'] >= trial_period[0]) & (trial_data['DATE'] <= trial_period[1])\n",
    "    ]\n",
    "    control_period_data = control_data[\n",
    "        (control_data['DATE'] >= trial_period[0]) & (control_data['DATE'] <= trial_period[1])\n",
    "    ]\n",
    "    \n",
    "    # Compute total sales\n",
    "    trial_sales = trial_period_data['total_sales'].sum()\n",
    "    control_sales = control_period_data['total_sales'].sum()\n",
    "    \n",
    "    # Compute average transactions per customer\n",
    "    trial_transactions_per_customer = (\n",
    "        trial_period_data['transactions_per_customer'].mean()\n",
    "    )\n",
    "    control_transactions_per_customer = (\n",
    "        control_period_data['transactions_per_customer'].mean()\n",
    "    )\n",
    "    \n",
    "    # Compute percentage changes\n",
    "    metrics['sales_percentage_change'] = (\n",
    "        (trial_sales - control_sales) / control_sales * 100 if control_sales != 0 else None\n",
    "    )\n",
    "    metrics['transactions_percentage_change'] = (\n",
    "        (trial_transactions_per_customer - control_transactions_per_customer) /\n",
    "        control_transactions_per_customer * 100 if control_transactions_per_customer != 0 else None\n",
    "    )\n",
    "    \n",
    "    # Compute absolute and normalized differences\n",
    "    metrics['sales_absolute_difference'] = trial_sales - control_sales\n",
    "    metrics['transactions_absolute_difference'] = (\n",
    "        trial_transactions_per_customer - control_transactions_per_customer\n",
    "    )\n",
    "    metrics['sales_normalized_difference'] = (\n",
    "        abs(trial_sales - control_sales) / control_sales if control_sales != 0 else None\n",
    "    )\n",
    "    metrics['transactions_normalized_difference'] = (\n",
    "        abs(trial_transactions_per_customer - control_transactions_per_customer) /\n",
    "        control_transactions_per_customer if control_transactions_per_customer != 0 else None\n",
    "    )\n",
    "    \n",
    "    return metrics\n"
   ]
  },
  {
   "cell_type": "code",
   "execution_count": 18,
   "id": "2ae618e2-cb4b-4025-84e7-e150eda83696",
   "metadata": {},
   "outputs": [
    {
     "ename": "KeyError",
     "evalue": "'total_transactions'",
     "output_type": "error",
     "traceback": [
      "\u001b[1;31m---------------------------------------------------------------------------\u001b[0m",
      "\u001b[1;31mKeyError\u001b[0m                                  Traceback (most recent call last)",
      "File \u001b[1;32m~\\anaconda3\\Lib\\site-packages\\pandas\\core\\indexes\\base.py:3805\u001b[0m, in \u001b[0;36mIndex.get_loc\u001b[1;34m(self, key)\u001b[0m\n\u001b[0;32m   3804\u001b[0m \u001b[38;5;28;01mtry\u001b[39;00m:\n\u001b[1;32m-> 3805\u001b[0m     \u001b[38;5;28;01mreturn\u001b[39;00m \u001b[38;5;28;43mself\u001b[39;49m\u001b[38;5;241;43m.\u001b[39;49m\u001b[43m_engine\u001b[49m\u001b[38;5;241;43m.\u001b[39;49m\u001b[43mget_loc\u001b[49m\u001b[43m(\u001b[49m\u001b[43mcasted_key\u001b[49m\u001b[43m)\u001b[49m\n\u001b[0;32m   3806\u001b[0m \u001b[38;5;28;01mexcept\u001b[39;00m \u001b[38;5;167;01mKeyError\u001b[39;00m \u001b[38;5;28;01mas\u001b[39;00m err:\n",
      "File \u001b[1;32mindex.pyx:167\u001b[0m, in \u001b[0;36mpandas._libs.index.IndexEngine.get_loc\u001b[1;34m()\u001b[0m\n",
      "File \u001b[1;32mindex.pyx:196\u001b[0m, in \u001b[0;36mpandas._libs.index.IndexEngine.get_loc\u001b[1;34m()\u001b[0m\n",
      "File \u001b[1;32mpandas\\\\_libs\\\\hashtable_class_helper.pxi:7081\u001b[0m, in \u001b[0;36mpandas._libs.hashtable.PyObjectHashTable.get_item\u001b[1;34m()\u001b[0m\n",
      "File \u001b[1;32mpandas\\\\_libs\\\\hashtable_class_helper.pxi:7089\u001b[0m, in \u001b[0;36mpandas._libs.hashtable.PyObjectHashTable.get_item\u001b[1;34m()\u001b[0m\n",
      "\u001b[1;31mKeyError\u001b[0m: 'total_transactions'",
      "\nThe above exception was the direct cause of the following exception:\n",
      "\u001b[1;31mKeyError\u001b[0m                                  Traceback (most recent call last)",
      "Cell \u001b[1;32mIn[18], line 2\u001b[0m\n\u001b[0;32m      1\u001b[0m monthly_metrics[\u001b[38;5;124m'\u001b[39m\u001b[38;5;124mtransactions_per_customer\u001b[39m\u001b[38;5;124m'\u001b[39m] \u001b[38;5;241m=\u001b[39m (\n\u001b[1;32m----> 2\u001b[0m     \u001b[43mmonthly_metrics\u001b[49m\u001b[43m[\u001b[49m\u001b[38;5;124;43m'\u001b[39;49m\u001b[38;5;124;43mtotal_transactions\u001b[39;49m\u001b[38;5;124;43m'\u001b[39;49m\u001b[43m]\u001b[49m \u001b[38;5;241m/\u001b[39m monthly_metrics[\u001b[38;5;124m'\u001b[39m\u001b[38;5;124mtotal_customers\u001b[39m\u001b[38;5;124m'\u001b[39m]\n\u001b[0;32m      3\u001b[0m )\n",
      "File \u001b[1;32m~\\anaconda3\\Lib\\site-packages\\pandas\\core\\frame.py:4102\u001b[0m, in \u001b[0;36mDataFrame.__getitem__\u001b[1;34m(self, key)\u001b[0m\n\u001b[0;32m   4100\u001b[0m \u001b[38;5;28;01mif\u001b[39;00m \u001b[38;5;28mself\u001b[39m\u001b[38;5;241m.\u001b[39mcolumns\u001b[38;5;241m.\u001b[39mnlevels \u001b[38;5;241m>\u001b[39m \u001b[38;5;241m1\u001b[39m:\n\u001b[0;32m   4101\u001b[0m     \u001b[38;5;28;01mreturn\u001b[39;00m \u001b[38;5;28mself\u001b[39m\u001b[38;5;241m.\u001b[39m_getitem_multilevel(key)\n\u001b[1;32m-> 4102\u001b[0m indexer \u001b[38;5;241m=\u001b[39m \u001b[38;5;28;43mself\u001b[39;49m\u001b[38;5;241;43m.\u001b[39;49m\u001b[43mcolumns\u001b[49m\u001b[38;5;241;43m.\u001b[39;49m\u001b[43mget_loc\u001b[49m\u001b[43m(\u001b[49m\u001b[43mkey\u001b[49m\u001b[43m)\u001b[49m\n\u001b[0;32m   4103\u001b[0m \u001b[38;5;28;01mif\u001b[39;00m is_integer(indexer):\n\u001b[0;32m   4104\u001b[0m     indexer \u001b[38;5;241m=\u001b[39m [indexer]\n",
      "File \u001b[1;32m~\\anaconda3\\Lib\\site-packages\\pandas\\core\\indexes\\base.py:3812\u001b[0m, in \u001b[0;36mIndex.get_loc\u001b[1;34m(self, key)\u001b[0m\n\u001b[0;32m   3807\u001b[0m     \u001b[38;5;28;01mif\u001b[39;00m \u001b[38;5;28misinstance\u001b[39m(casted_key, \u001b[38;5;28mslice\u001b[39m) \u001b[38;5;129;01mor\u001b[39;00m (\n\u001b[0;32m   3808\u001b[0m         \u001b[38;5;28misinstance\u001b[39m(casted_key, abc\u001b[38;5;241m.\u001b[39mIterable)\n\u001b[0;32m   3809\u001b[0m         \u001b[38;5;129;01mand\u001b[39;00m \u001b[38;5;28many\u001b[39m(\u001b[38;5;28misinstance\u001b[39m(x, \u001b[38;5;28mslice\u001b[39m) \u001b[38;5;28;01mfor\u001b[39;00m x \u001b[38;5;129;01min\u001b[39;00m casted_key)\n\u001b[0;32m   3810\u001b[0m     ):\n\u001b[0;32m   3811\u001b[0m         \u001b[38;5;28;01mraise\u001b[39;00m InvalidIndexError(key)\n\u001b[1;32m-> 3812\u001b[0m     \u001b[38;5;28;01mraise\u001b[39;00m \u001b[38;5;167;01mKeyError\u001b[39;00m(key) \u001b[38;5;28;01mfrom\u001b[39;00m \u001b[38;5;21;01merr\u001b[39;00m\n\u001b[0;32m   3813\u001b[0m \u001b[38;5;28;01mexcept\u001b[39;00m \u001b[38;5;167;01mTypeError\u001b[39;00m:\n\u001b[0;32m   3814\u001b[0m     \u001b[38;5;66;03m# If we have a listlike key, _check_indexing_error will raise\u001b[39;00m\n\u001b[0;32m   3815\u001b[0m     \u001b[38;5;66;03m#  InvalidIndexError. Otherwise we fall through and re-raise\u001b[39;00m\n\u001b[0;32m   3816\u001b[0m     \u001b[38;5;66;03m#  the TypeError.\u001b[39;00m\n\u001b[0;32m   3817\u001b[0m     \u001b[38;5;28mself\u001b[39m\u001b[38;5;241m.\u001b[39m_check_indexing_error(key)\n",
      "\u001b[1;31mKeyError\u001b[0m: 'total_transactions'"
     ]
    }
   ],
   "source": [
    "monthly_metrics['transactions_per_customer'] = (\n",
    "    monthly_metrics['total_transactions'] / monthly_metrics['total_customers']\n",
    ")"
   ]
  },
  {
   "cell_type": "code",
   "execution_count": 17,
   "id": "20d1a786-b480-445d-9dcd-4383c45f7e6f",
   "metadata": {},
   "outputs": [
    {
     "ename": "KeyError",
     "evalue": "'transactions_per_customer'",
     "output_type": "error",
     "traceback": [
      "\u001b[1;31m---------------------------------------------------------------------------\u001b[0m",
      "\u001b[1;31mKeyError\u001b[0m                                  Traceback (most recent call last)",
      "File \u001b[1;32m~\\anaconda3\\Lib\\site-packages\\pandas\\core\\indexes\\base.py:3805\u001b[0m, in \u001b[0;36mIndex.get_loc\u001b[1;34m(self, key)\u001b[0m\n\u001b[0;32m   3804\u001b[0m \u001b[38;5;28;01mtry\u001b[39;00m:\n\u001b[1;32m-> 3805\u001b[0m     \u001b[38;5;28;01mreturn\u001b[39;00m \u001b[38;5;28;43mself\u001b[39;49m\u001b[38;5;241;43m.\u001b[39;49m\u001b[43m_engine\u001b[49m\u001b[38;5;241;43m.\u001b[39;49m\u001b[43mget_loc\u001b[49m\u001b[43m(\u001b[49m\u001b[43mcasted_key\u001b[49m\u001b[43m)\u001b[49m\n\u001b[0;32m   3806\u001b[0m \u001b[38;5;28;01mexcept\u001b[39;00m \u001b[38;5;167;01mKeyError\u001b[39;00m \u001b[38;5;28;01mas\u001b[39;00m err:\n",
      "File \u001b[1;32mindex.pyx:167\u001b[0m, in \u001b[0;36mpandas._libs.index.IndexEngine.get_loc\u001b[1;34m()\u001b[0m\n",
      "File \u001b[1;32mindex.pyx:196\u001b[0m, in \u001b[0;36mpandas._libs.index.IndexEngine.get_loc\u001b[1;34m()\u001b[0m\n",
      "File \u001b[1;32mpandas\\\\_libs\\\\hashtable_class_helper.pxi:7081\u001b[0m, in \u001b[0;36mpandas._libs.hashtable.PyObjectHashTable.get_item\u001b[1;34m()\u001b[0m\n",
      "File \u001b[1;32mpandas\\\\_libs\\\\hashtable_class_helper.pxi:7089\u001b[0m, in \u001b[0;36mpandas._libs.hashtable.PyObjectHashTable.get_item\u001b[1;34m()\u001b[0m\n",
      "\u001b[1;31mKeyError\u001b[0m: 'transactions_per_customer'",
      "\nThe above exception was the direct cause of the following exception:\n",
      "\u001b[1;31mKeyError\u001b[0m                                  Traceback (most recent call last)",
      "Cell \u001b[1;32mIn[17], line 13\u001b[0m\n\u001b[0;32m     10\u001b[0m control_store_data \u001b[38;5;241m=\u001b[39m monthly_metrics[monthly_metrics[\u001b[38;5;124m'\u001b[39m\u001b[38;5;124mSTORE_NBR\u001b[39m\u001b[38;5;124m'\u001b[39m] \u001b[38;5;241m==\u001b[39m control_store_num]\n\u001b[0;32m     12\u001b[0m \u001b[38;5;66;03m# Compute alternative metrics\u001b[39;00m\n\u001b[1;32m---> 13\u001b[0m results \u001b[38;5;241m=\u001b[39m \u001b[43malternative_metrics\u001b[49m\u001b[43m(\u001b[49m\u001b[43mtrial_store_data\u001b[49m\u001b[43m,\u001b[49m\u001b[43m \u001b[49m\u001b[43mcontrol_store_data\u001b[49m\u001b[43m,\u001b[49m\u001b[43m \u001b[49m\u001b[43mtrial_period\u001b[49m\u001b[43m)\u001b[49m\n\u001b[0;32m     15\u001b[0m \u001b[38;5;28mprint\u001b[39m(\u001b[38;5;124mf\u001b[39m\u001b[38;5;124m\"\u001b[39m\u001b[38;5;124mResults for Trial Store \u001b[39m\u001b[38;5;132;01m{\u001b[39;00mtrial_store_num\u001b[38;5;132;01m}\u001b[39;00m\u001b[38;5;124m vs Control Store \u001b[39m\u001b[38;5;132;01m{\u001b[39;00mcontrol_store_num\u001b[38;5;132;01m}\u001b[39;00m\u001b[38;5;124m:\u001b[39m\u001b[38;5;124m\"\u001b[39m)\n\u001b[0;32m     16\u001b[0m \u001b[38;5;28mprint\u001b[39m(results)\n",
      "Cell \u001b[1;32mIn[16], line 29\u001b[0m, in \u001b[0;36malternative_metrics\u001b[1;34m(trial_data, control_data, trial_period)\u001b[0m\n\u001b[0;32m     25\u001b[0m control_sales \u001b[38;5;241m=\u001b[39m control_period_data[\u001b[38;5;124m'\u001b[39m\u001b[38;5;124mtotal_sales\u001b[39m\u001b[38;5;124m'\u001b[39m]\u001b[38;5;241m.\u001b[39msum()\n\u001b[0;32m     27\u001b[0m \u001b[38;5;66;03m# Compute average transactions per customer\u001b[39;00m\n\u001b[0;32m     28\u001b[0m trial_transactions_per_customer \u001b[38;5;241m=\u001b[39m (\n\u001b[1;32m---> 29\u001b[0m     \u001b[43mtrial_period_data\u001b[49m\u001b[43m[\u001b[49m\u001b[38;5;124;43m'\u001b[39;49m\u001b[38;5;124;43mtransactions_per_customer\u001b[39;49m\u001b[38;5;124;43m'\u001b[39;49m\u001b[43m]\u001b[49m\u001b[38;5;241m.\u001b[39mmean()\n\u001b[0;32m     30\u001b[0m )\n\u001b[0;32m     31\u001b[0m control_transactions_per_customer \u001b[38;5;241m=\u001b[39m (\n\u001b[0;32m     32\u001b[0m     control_period_data[\u001b[38;5;124m'\u001b[39m\u001b[38;5;124mtransactions_per_customer\u001b[39m\u001b[38;5;124m'\u001b[39m]\u001b[38;5;241m.\u001b[39mmean()\n\u001b[0;32m     33\u001b[0m )\n\u001b[0;32m     35\u001b[0m \u001b[38;5;66;03m# Compute percentage changes\u001b[39;00m\n",
      "File \u001b[1;32m~\\anaconda3\\Lib\\site-packages\\pandas\\core\\frame.py:4102\u001b[0m, in \u001b[0;36mDataFrame.__getitem__\u001b[1;34m(self, key)\u001b[0m\n\u001b[0;32m   4100\u001b[0m \u001b[38;5;28;01mif\u001b[39;00m \u001b[38;5;28mself\u001b[39m\u001b[38;5;241m.\u001b[39mcolumns\u001b[38;5;241m.\u001b[39mnlevels \u001b[38;5;241m>\u001b[39m \u001b[38;5;241m1\u001b[39m:\n\u001b[0;32m   4101\u001b[0m     \u001b[38;5;28;01mreturn\u001b[39;00m \u001b[38;5;28mself\u001b[39m\u001b[38;5;241m.\u001b[39m_getitem_multilevel(key)\n\u001b[1;32m-> 4102\u001b[0m indexer \u001b[38;5;241m=\u001b[39m \u001b[38;5;28;43mself\u001b[39;49m\u001b[38;5;241;43m.\u001b[39;49m\u001b[43mcolumns\u001b[49m\u001b[38;5;241;43m.\u001b[39;49m\u001b[43mget_loc\u001b[49m\u001b[43m(\u001b[49m\u001b[43mkey\u001b[49m\u001b[43m)\u001b[49m\n\u001b[0;32m   4103\u001b[0m \u001b[38;5;28;01mif\u001b[39;00m is_integer(indexer):\n\u001b[0;32m   4104\u001b[0m     indexer \u001b[38;5;241m=\u001b[39m [indexer]\n",
      "File \u001b[1;32m~\\anaconda3\\Lib\\site-packages\\pandas\\core\\indexes\\base.py:3812\u001b[0m, in \u001b[0;36mIndex.get_loc\u001b[1;34m(self, key)\u001b[0m\n\u001b[0;32m   3807\u001b[0m     \u001b[38;5;28;01mif\u001b[39;00m \u001b[38;5;28misinstance\u001b[39m(casted_key, \u001b[38;5;28mslice\u001b[39m) \u001b[38;5;129;01mor\u001b[39;00m (\n\u001b[0;32m   3808\u001b[0m         \u001b[38;5;28misinstance\u001b[39m(casted_key, abc\u001b[38;5;241m.\u001b[39mIterable)\n\u001b[0;32m   3809\u001b[0m         \u001b[38;5;129;01mand\u001b[39;00m \u001b[38;5;28many\u001b[39m(\u001b[38;5;28misinstance\u001b[39m(x, \u001b[38;5;28mslice\u001b[39m) \u001b[38;5;28;01mfor\u001b[39;00m x \u001b[38;5;129;01min\u001b[39;00m casted_key)\n\u001b[0;32m   3810\u001b[0m     ):\n\u001b[0;32m   3811\u001b[0m         \u001b[38;5;28;01mraise\u001b[39;00m InvalidIndexError(key)\n\u001b[1;32m-> 3812\u001b[0m     \u001b[38;5;28;01mraise\u001b[39;00m \u001b[38;5;167;01mKeyError\u001b[39;00m(key) \u001b[38;5;28;01mfrom\u001b[39;00m \u001b[38;5;21;01merr\u001b[39;00m\n\u001b[0;32m   3813\u001b[0m \u001b[38;5;28;01mexcept\u001b[39;00m \u001b[38;5;167;01mTypeError\u001b[39;00m:\n\u001b[0;32m   3814\u001b[0m     \u001b[38;5;66;03m# If we have a listlike key, _check_indexing_error will raise\u001b[39;00m\n\u001b[0;32m   3815\u001b[0m     \u001b[38;5;66;03m#  InvalidIndexError. Otherwise we fall through and re-raise\u001b[39;00m\n\u001b[0;32m   3816\u001b[0m     \u001b[38;5;66;03m#  the TypeError.\u001b[39;00m\n\u001b[0;32m   3817\u001b[0m     \u001b[38;5;28mself\u001b[39m\u001b[38;5;241m.\u001b[39m_check_indexing_error(key)\n",
      "\u001b[1;31mKeyError\u001b[0m: 'transactions_per_customer'"
     ]
    }
   ],
   "source": [
    "# Define the trial period\n",
    "trial_period = ('2019-01-01', '2019-03-31')\n",
    "\n",
    "# Compare each trial and control store\n",
    "for trial_store_num, control_store_info in best_control_stores.items():\n",
    "    control_store_num = control_store_info[0]\n",
    "    \n",
    "    # Get trial and control data\n",
    "    trial_store_data = monthly_metrics[monthly_metrics['STORE_NBR'] == trial_store_num]\n",
    "    control_store_data = monthly_metrics[monthly_metrics['STORE_NBR'] == control_store_num]\n",
    "    \n",
    "    # Compute alternative metrics\n",
    "    results = alternative_metrics(trial_store_data, control_store_data, trial_period)\n",
    "    \n",
    "    print(f\"Results for Trial Store {trial_store_num} vs Control Store {control_store_num}:\")\n",
    "    print(results)\n"
   ]
  },
  {
   "cell_type": "code",
   "execution_count": null,
   "id": "f11891f2-dce4-44f1-b64d-304318cadd65",
   "metadata": {},
   "outputs": [],
   "source": []
  }
 ],
 "metadata": {
  "kernelspec": {
   "display_name": "Python 3 (ipykernel)",
   "language": "python",
   "name": "python3"
  },
  "language_info": {
   "codemirror_mode": {
    "name": "ipython",
    "version": 3
   },
   "file_extension": ".py",
   "mimetype": "text/x-python",
   "name": "python",
   "nbconvert_exporter": "python",
   "pygments_lexer": "ipython3",
   "version": "3.12.8"
  }
 },
 "nbformat": 4,
 "nbformat_minor": 5
}
